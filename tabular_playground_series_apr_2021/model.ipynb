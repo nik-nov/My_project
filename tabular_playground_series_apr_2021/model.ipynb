{
 "cells": [
  {
   "cell_type": "code",
   "execution_count": 157,
   "metadata": {},
   "outputs": [],
   "source": [
    "import matplotlib.pyplot as plt\n",
    "import numpy as np\n",
    "import pandas as pd\n",
    "import seaborn as sns\n",
    "from sklearn.model_selection import cross_val_score, StratifiedKFold\n",
    "from sklearn.preprocessing import StandardScaler, LabelEncoder\n",
    "from sklearn.model_selection import train_test_split, StratifiedShuffleSplit, GridSearchCV, validation_curve, RandomizedSearchCV\n",
    "from sklearn.metrics import roc_auc_score, f1_score, plot_confusion_matrix, accuracy_score, \\\n",
    "    plot_roc_curve, plot_precision_recall_curve, classification_report, precision_score, recall_score\n",
    "import lightgbm as lgb\n",
    "import xgboost as xgb\n",
    "import warnings\n",
    "warnings.filterwarnings(\"ignore\")\n",
    "\n",
    "%matplotlib inline"
   ]
  },
  {
   "cell_type": "code",
   "execution_count": 86,
   "metadata": {},
   "outputs": [],
   "source": [
    "data_mod = pd.read_csv('mod_data/data_mod.csv')\n",
    "submission = pd.read_csv('data/sample_submission.csv')"
   ]
  },
  {
   "cell_type": "code",
   "execution_count": 254,
   "metadata": {},
   "outputs": [],
   "source": [
    "# Функция для записи метрик в таблицу\n",
    "def get_scores(report_df, model, X_test, y_test, name):\n",
    "\n",
    "    report = pd.DataFrame(columns={'ROC-AUC'}, data=[0])\n",
    "    report['ROC-AUC'] = roc_auc_score(y_test,\n",
    "                                      model.predict_proba(X_test)[:, 1])\n",
    "    report['F1'] = f1_score(y_test, model.predict(X_test))\n",
    "    report['precision_0'] = precision_score(\n",
    "        y_test, model.predict(X_test), pos_label=0)\n",
    "    report['precision_1'] = precision_score(\n",
    "        y_test, model.predict(X_test), pos_label=1)\n",
    "    report['recall_0'] = recall_score(\n",
    "        y_test, model.predict(X_test), pos_label=0)\n",
    "    report['recall_1'] = recall_score(\n",
    "        y_test, model.predict(X_test), pos_label=1)\n",
    "    report['accuracy'] = accuracy_score(\n",
    "        y_test, model.predict(X_test))\n",
    "    report.index = [name]\n",
    "    report_df = report_df.append(report)\n",
    "    return report_df\n",
    "# датафрейм для записи метрик\n",
    "df_report = pd.DataFrame(columns=['ROC-AUC','F1','precision_0','precision_1','recall_0','recall_1','accuracy'])"
   ]
  },
  {
   "cell_type": "markdown",
   "metadata": {},
   "source": [
    "# Feature selection"
   ]
  },
  {
   "cell_type": "code",
   "execution_count": 246,
   "metadata": {},
   "outputs": [],
   "source": [
    "data = data_mod.drop(['Name', 'Age', 'SibSp', 'Parch', 'Ticket', 'Fare', 'Alone', 'PassengerId'], axis=1)"
   ]
  },
  {
   "cell_type": "markdown",
   "metadata": {},
   "source": [
    "# Features encoding"
   ]
  },
  {
   "cell_type": "code",
   "execution_count": 247,
   "metadata": {},
   "outputs": [],
   "source": [
    "features_encoding = ['Pclass','Sex','AgeC','Embarked','Deck','FareC']\n",
    "data = pd.get_dummies(data=data, columns=features_encoding)"
   ]
  },
  {
   "cell_type": "code",
   "execution_count": 248,
   "metadata": {},
   "outputs": [],
   "source": [
    "features_encoding  = ['Family']\n",
    "for i in features_encoding:\n",
    "    data[i] = LabelEncoder().fit_transform(data[i])"
   ]
  },
  {
   "cell_type": "code",
   "execution_count": 249,
   "metadata": {},
   "outputs": [
    {
     "name": "stdout",
     "output_type": "stream",
     "text": [
      "<class 'pandas.core.frame.DataFrame'>\n",
      "RangeIndex: 200000 entries, 0 to 199999\n",
      "Data columns (total 37 columns):\n",
      " #   Column         Non-Null Count   Dtype  \n",
      "---  ------         --------------   -----  \n",
      " 0   Survived       100000 non-null  float64\n",
      " 1   Family         200000 non-null  int64  \n",
      " 2   Pclass_1       200000 non-null  uint8  \n",
      " 3   Pclass_2       200000 non-null  uint8  \n",
      " 4   Pclass_3       200000 non-null  uint8  \n",
      " 5   Sex_female     200000 non-null  uint8  \n",
      " 6   Sex_male       200000 non-null  uint8  \n",
      " 7   AgeC_AgeC-0    200000 non-null  uint8  \n",
      " 8   AgeC_AgeC-1    200000 non-null  uint8  \n",
      " 9   AgeC_AgeC-2    200000 non-null  uint8  \n",
      " 10  AgeC_AgeC-3    200000 non-null  uint8  \n",
      " 11  AgeC_AgeC-4    200000 non-null  uint8  \n",
      " 12  AgeC_AgeC-5    200000 non-null  uint8  \n",
      " 13  AgeC_AgeC-6    200000 non-null  uint8  \n",
      " 14  AgeC_AgeC-7    200000 non-null  uint8  \n",
      " 15  AgeC_AgeC-8    200000 non-null  uint8  \n",
      " 16  AgeC_AgeC-9    200000 non-null  uint8  \n",
      " 17  Embarked_C     200000 non-null  uint8  \n",
      " 18  Embarked_Q     200000 non-null  uint8  \n",
      " 19  Embarked_S     200000 non-null  uint8  \n",
      " 20  Deck_A         200000 non-null  uint8  \n",
      " 21  Deck_B         200000 non-null  uint8  \n",
      " 22  Deck_C         200000 non-null  uint8  \n",
      " 23  Deck_D         200000 non-null  uint8  \n",
      " 24  Deck_E         200000 non-null  uint8  \n",
      " 25  Deck_F         200000 non-null  uint8  \n",
      " 26  Deck_G         200000 non-null  uint8  \n",
      " 27  Deck_N         200000 non-null  uint8  \n",
      " 28  Deck_T         200000 non-null  uint8  \n",
      " 29  FareC_FareC-0  200000 non-null  uint8  \n",
      " 30  FareC_FareC-1  200000 non-null  uint8  \n",
      " 31  FareC_FareC-2  200000 non-null  uint8  \n",
      " 32  FareC_FareC-3  200000 non-null  uint8  \n",
      " 33  FareC_FareC-4  200000 non-null  uint8  \n",
      " 34  FareC_FareC-5  200000 non-null  uint8  \n",
      " 35  FareC_FareC-6  200000 non-null  uint8  \n",
      " 36  FareC_FareC-7  200000 non-null  uint8  \n",
      "dtypes: float64(1), int64(1), uint8(35)\n",
      "memory usage: 9.7 MB\n"
     ]
    }
   ],
   "source": [
    "data.info()"
   ]
  },
  {
   "cell_type": "markdown",
   "metadata": {},
   "source": [
    "### Split data"
   ]
  },
  {
   "cell_type": "code",
   "execution_count": 250,
   "metadata": {},
   "outputs": [
    {
     "data": {
      "text/plain": [
       "(100000, 36)"
      ]
     },
     "execution_count": 250,
     "metadata": {},
     "output_type": "execute_result"
    }
   ],
   "source": [
    "# разделяем общий дадасет data на train и test\n",
    "# в тестовый датасет попадают только те объекты для которых значение 'Survived' не определено\n",
    "predict_data = data[data['Survived'].isnull()]\n",
    "predict_data = predict_data.drop(['Survived'], axis = 1)\n",
    "\n",
    "# в тренировачный набор попадают объекты у которых нет пропущеных значений ни у одной переменной\n",
    "train_data = data.dropna()\n",
    "target = train_data['Survived']\n",
    "train_data = train_data.drop(['Survived'], axis = 1)\n",
    "# контроль разммера\n",
    "train_data.shape"
   ]
  },
  {
   "cell_type": "markdown",
   "metadata": {},
   "source": [
    "# Random forest model"
   ]
  },
  {
   "cell_type": "code",
   "execution_count": 251,
   "metadata": {},
   "outputs": [],
   "source": [
    "from sklearn.ensemble import RandomForestClassifier"
   ]
  },
  {
   "cell_type": "code",
   "execution_count": 252,
   "metadata": {},
   "outputs": [],
   "source": [
    "X_train, X_test, y_train, y_test = train_test_split(train_data, target, \n",
    "                                                    test_size=0.2, \n",
    "                                                    random_state=23)"
   ]
  },
  {
   "cell_type": "code",
   "execution_count": 253,
   "metadata": {},
   "outputs": [
    {
     "name": "stdout",
     "output_type": "stream",
     "text": [
      "Fitting 3 folds for each of 27 candidates, totalling 81 fits\n"
     ]
    },
    {
     "name": "stderr",
     "output_type": "stream",
     "text": [
      "[Parallel(n_jobs=-1)]: Using backend LokyBackend with 4 concurrent workers.\n",
      "[Parallel(n_jobs=-1)]: Done  42 tasks      | elapsed:  1.9min\n",
      "[Parallel(n_jobs=-1)]: Done  81 out of  81 | elapsed:  4.2min finished\n"
     ]
    },
    {
     "data": {
      "text/plain": [
       "GridSearchCV(cv=3, estimator=RandomForestClassifier(random_state=23), n_jobs=-1,\n",
       "             param_grid=[{'min_samples_leaf': [8, 10, 12],\n",
       "                          'min_samples_split': [1, 2, 3],\n",
       "                          'n_estimators': [420, 430, 440]}],\n",
       "             verbose=1)"
      ]
     },
     "execution_count": 253,
     "metadata": {},
     "output_type": "execute_result"
    }
   ],
   "source": [
    "rf_model = RandomForestClassifier(random_state=23)\n",
    "rf_model_params = [{\n",
    "    \"n_estimators\": [ 420, 430, 440],\n",
    "    \"min_samples_split\": [1,2,3],\n",
    "    \"min_samples_leaf\": [8,10,12]\n",
    "}]\n",
    "rf_model_grid = GridSearchCV(rf_model, rf_model_params, cv=3, refit=True, verbose=1, n_jobs=-1)\n",
    "rf_model_grid.fit(X_train, y_train)"
   ]
  },
  {
   "cell_type": "code",
   "execution_count": 240,
   "metadata": {},
   "outputs": [
    {
     "name": "stdout",
     "output_type": "stream",
     "text": [
      "Accuracy (random forest auto): 0.7763125078989465 params {'min_samples_leaf': 8, 'min_samples_split': 2, 'n_estimators': 420}\n"
     ]
    }
   ],
   "source": [
    "# лучший score и лучшие параметры на кросс-валидации\n",
    "rf_model_best = rf_model_grid.best_estimator_\n",
    "print(\"Accuracy (random forest auto): {} params {}\"\n",
    "      .format(rf_model_grid.best_score_, rf_model_grid.best_params_))"
   ]
  },
  {
   "cell_type": "code",
   "execution_count": 255,
   "metadata": {},
   "outputs": [],
   "source": [
    "# записываем результаты в датафрейм\n",
    "df_report = get_scores(df_report, rf_model_grid, X_test,\n",
    "                       y_test, 'Random_Forest')"
   ]
  },
  {
   "cell_type": "code",
   "execution_count": 257,
   "metadata": {},
   "outputs": [
    {
     "data": {
      "text/html": [
       "<div>\n",
       "<style scoped>\n",
       "    .dataframe tbody tr th:only-of-type {\n",
       "        vertical-align: middle;\n",
       "    }\n",
       "\n",
       "    .dataframe tbody tr th {\n",
       "        vertical-align: top;\n",
       "    }\n",
       "\n",
       "    .dataframe thead th {\n",
       "        text-align: right;\n",
       "    }\n",
       "</style>\n",
       "<table border=\"1\" class=\"dataframe\">\n",
       "  <thead>\n",
       "    <tr style=\"text-align: right;\">\n",
       "      <th></th>\n",
       "      <th>ROC-AUC</th>\n",
       "      <th>F1</th>\n",
       "      <th>precision_0</th>\n",
       "      <th>precision_1</th>\n",
       "      <th>recall_0</th>\n",
       "      <th>recall_1</th>\n",
       "      <th>accuracy</th>\n",
       "    </tr>\n",
       "  </thead>\n",
       "  <tbody>\n",
       "    <tr>\n",
       "      <th>Random_Forest</th>\n",
       "      <td>0.85143</td>\n",
       "      <td>0.740577</td>\n",
       "      <td>0.798866</td>\n",
       "      <td>0.758861</td>\n",
       "      <td>0.827142</td>\n",
       "      <td>0.723154</td>\n",
       "      <td>0.7825</td>\n",
       "    </tr>\n",
       "  </tbody>\n",
       "</table>\n",
       "</div>"
      ],
      "text/plain": [
       "               ROC-AUC        F1  precision_0  precision_1  recall_0  \\\n",
       "Random_Forest  0.85143  0.740577     0.798866     0.758861  0.827142   \n",
       "\n",
       "               recall_1  accuracy  \n",
       "Random_Forest  0.723154    0.7825  "
      ]
     },
     "execution_count": 257,
     "metadata": {},
     "output_type": "execute_result"
    }
   ],
   "source": [
    "df_report"
   ]
  },
  {
   "cell_type": "code",
   "execution_count": 221,
   "metadata": {},
   "outputs": [],
   "source": [
    "#pred = rf_model_grid.predict_proba(predict_data)"
   ]
  },
  {
   "cell_type": "code",
   "execution_count": 108,
   "metadata": {},
   "outputs": [],
   "source": [
    "#submission['Survived'] = ((pred) > 0.5).astype(int)\n",
    "#submission.to_csv('RF_predict.csv', index = False)"
   ]
  },
  {
   "cell_type": "code",
   "execution_count": null,
   "metadata": {},
   "outputs": [],
   "source": []
  }
 ],
 "metadata": {
  "kernelspec": {
   "display_name": "Python 3",
   "language": "python",
   "name": "python3"
  },
  "language_info": {
   "codemirror_mode": {
    "name": "ipython",
    "version": 3
   },
   "file_extension": ".py",
   "mimetype": "text/x-python",
   "name": "python",
   "nbconvert_exporter": "python",
   "pygments_lexer": "ipython3",
   "version": "3.8.8"
  }
 },
 "nbformat": 4,
 "nbformat_minor": 4
}

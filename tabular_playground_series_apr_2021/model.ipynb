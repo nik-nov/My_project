{
 "cells": [
  {
   "cell_type": "code",
   "execution_count": 54,
   "metadata": {},
   "outputs": [],
   "source": [
    "import matplotlib.pyplot as plt\n",
    "import numpy as np\n",
    "import pandas as pd\n",
    "from sklearn.model_selection import cross_val_score, StratifiedKFold\n",
    "from sklearn.preprocessing import StandardScaler, LabelEncoder\n",
    "from sklearn.model_selection import train_test_split, StratifiedShuffleSplit, GridSearchCV, validation_curve, RandomizedSearchCV\n",
    "from sklearn.metrics import roc_auc_score, f1_score, plot_confusion_matrix, accuracy_score, \\\n",
    "    plot_roc_curve, plot_precision_recall_curve, classification_report, precision_score, recall_score\n",
    "import warnings\n",
    "warnings.filterwarnings(\"ignore\")\n",
    "\n",
    "%matplotlib inline"
   ]
  },
  {
   "cell_type": "code",
   "execution_count": 55,
   "metadata": {},
   "outputs": [],
   "source": [
    "# загружаем данные полученные в EDA+FE\n",
    "data_mod = pd.read_csv('mod_data/data_mod.csv')\n",
    "submission = pd.read_csv('data/sample_submission.csv')"
   ]
  },
  {
   "cell_type": "code",
   "execution_count": 56,
   "metadata": {},
   "outputs": [],
   "source": [
    "# датафрейм для записи результатов\n",
    "report_df = pd.DataFrame()\n",
    "\n",
    "def get_scores(report_df, model, X_test, y_test, name):\n",
    "    '''Принимает на вход датафрейм, обученную модель и данные с отложенной выборки, \n",
    "    рассчитывает метрики и записывает результаты в датафрейм'''\n",
    "    report = pd.DataFrame(columns={'ROC-AUC'}, data=[0])\n",
    "    report['ROC-AUC'] = roc_auc_score(y_test,\n",
    "                                      model.predict_proba(X_test)[:, 1])\n",
    "    report['F1'] = f1_score(y_test, model.predict(X_test))\n",
    "    report['precision_0'] = precision_score(\n",
    "        y_test, model.predict(X_test), pos_label=0)\n",
    "    report['precision_1'] = precision_score(\n",
    "        y_test, model.predict(X_test), pos_label=1)\n",
    "    report['recall_0'] = recall_score(\n",
    "        y_test, model.predict(X_test), pos_label=0)\n",
    "    report['recall_1'] = recall_score(\n",
    "        y_test, model.predict(X_test), pos_label=1)\n",
    "    report['accuracy'] = accuracy_score(\n",
    "        y_test, model.predict(X_test))\n",
    "    report.index = [name]\n",
    "    report_df = report_df.append(report)\n",
    "    return report_df"
   ]
  },
  {
   "cell_type": "code",
   "execution_count": 57,
   "metadata": {},
   "outputs": [
    {
     "name": "stdout",
     "output_type": "stream",
     "text": [
      "<class 'pandas.core.frame.DataFrame'>\n",
      "RangeIndex: 200000 entries, 0 to 199999\n",
      "Data columns (total 16 columns):\n",
      " #   Column       Non-Null Count   Dtype  \n",
      "---  ------       --------------   -----  \n",
      " 0   PassengerId  200000 non-null  int64  \n",
      " 1   Survived     100000 non-null  float64\n",
      " 2   Pclass       200000 non-null  int64  \n",
      " 3   Name         200000 non-null  object \n",
      " 4   Sex          200000 non-null  object \n",
      " 5   Age          200000 non-null  float64\n",
      " 6   SibSp        200000 non-null  int64  \n",
      " 7   Parch        200000 non-null  int64  \n",
      " 8   Ticket       200000 non-null  object \n",
      " 9   Fare         200000 non-null  float64\n",
      " 10  Embarked     200000 non-null  object \n",
      " 11  Deck         200000 non-null  object \n",
      " 12  Family       200000 non-null  int64  \n",
      " 13  Alone        200000 non-null  bool   \n",
      " 14  FareC        200000 non-null  object \n",
      " 15  AgeC         200000 non-null  object \n",
      "dtypes: bool(1), float64(3), int64(5), object(7)\n",
      "memory usage: 23.1+ MB\n"
     ]
    }
   ],
   "source": [
    "data_mod.info()"
   ]
  },
  {
   "cell_type": "markdown",
   "metadata": {},
   "source": [
    "# Features selection & encoding"
   ]
  },
  {
   "cell_type": "code",
   "execution_count": 58,
   "metadata": {},
   "outputs": [],
   "source": [
    "label_cols = ['Name', 'Ticket', 'Family', 'Alone']\n",
    "onehot_cols = ['Pclass', 'Sex', 'Deck', 'Embarked']\n",
    "numerical_cols = ['Age', 'Fare', 'Survived']"
   ]
  },
  {
   "cell_type": "code",
   "execution_count": 59,
   "metadata": {},
   "outputs": [],
   "source": [
    "def label_encoder(c):\n",
    "    lc = LabelEncoder()\n",
    "    return lc.fit_transform(c)"
   ]
  },
  {
   "cell_type": "code",
   "execution_count": 60,
   "metadata": {},
   "outputs": [],
   "source": [
    "onehot_encoded_df = pd.get_dummies(data_mod[onehot_cols])\n",
    "label_encoded_df = data_mod[label_cols].apply(label_encoder)\n",
    "numerical_df = data_mod[numerical_cols]"
   ]
  },
  {
   "cell_type": "code",
   "execution_count": 61,
   "metadata": {},
   "outputs": [],
   "source": [
    "data = pd.concat([numerical_df, label_encoded_df, onehot_encoded_df], axis=1)"
   ]
  },
  {
   "cell_type": "code",
   "execution_count": 62,
   "metadata": {},
   "outputs": [
    {
     "name": "stdout",
     "output_type": "stream",
     "text": [
      "<class 'pandas.core.frame.DataFrame'>\n",
      "RangeIndex: 200000 entries, 0 to 199999\n",
      "Data columns (total 22 columns):\n",
      " #   Column      Non-Null Count   Dtype  \n",
      "---  ------      --------------   -----  \n",
      " 0   Age         200000 non-null  float64\n",
      " 1   Fare        200000 non-null  float64\n",
      " 2   Survived    100000 non-null  float64\n",
      " 3   Name        200000 non-null  int64  \n",
      " 4   Ticket      200000 non-null  int64  \n",
      " 5   Family      200000 non-null  int64  \n",
      " 6   Alone       200000 non-null  int64  \n",
      " 7   Pclass      200000 non-null  int64  \n",
      " 8   Sex_female  200000 non-null  uint8  \n",
      " 9   Sex_male    200000 non-null  uint8  \n",
      " 10  Deck_A      200000 non-null  uint8  \n",
      " 11  Deck_B      200000 non-null  uint8  \n",
      " 12  Deck_C      200000 non-null  uint8  \n",
      " 13  Deck_D      200000 non-null  uint8  \n",
      " 14  Deck_E      200000 non-null  uint8  \n",
      " 15  Deck_F      200000 non-null  uint8  \n",
      " 16  Deck_G      200000 non-null  uint8  \n",
      " 17  Deck_N      200000 non-null  uint8  \n",
      " 18  Deck_T      200000 non-null  uint8  \n",
      " 19  Embarked_C  200000 non-null  uint8  \n",
      " 20  Embarked_Q  200000 non-null  uint8  \n",
      " 21  Embarked_S  200000 non-null  uint8  \n",
      "dtypes: float64(3), int64(5), uint8(14)\n",
      "memory usage: 14.9 MB\n"
     ]
    }
   ],
   "source": [
    "data.info()"
   ]
  },
  {
   "cell_type": "markdown",
   "metadata": {},
   "source": [
    "### Split data"
   ]
  },
  {
   "cell_type": "code",
   "execution_count": 63,
   "metadata": {},
   "outputs": [
    {
     "data": {
      "text/plain": [
       "(100000, 21)"
      ]
     },
     "execution_count": 63,
     "metadata": {},
     "output_type": "execute_result"
    }
   ],
   "source": [
    "# разделяем общий дадасет data на train и test\n",
    "# в тестовый датасет попадают только те объекты для которых значение 'Survived' не определено\n",
    "predict_data = data[data['Survived'].isnull()]\n",
    "predict_data = predict_data.drop(['Survived'], axis = 1)\n",
    "\n",
    "# в тренировачный набор попадают объекты у которых нет пропущеных значений ни у одной переменной\n",
    "train_data = data.dropna()\n",
    "target = train_data['Survived']\n",
    "train_data = train_data.drop(['Survived'], axis = 1)\n",
    "# контроль разммера\n",
    "train_data.shape"
   ]
  },
  {
   "cell_type": "markdown",
   "metadata": {},
   "source": [
    "# Random Forest model"
   ]
  },
  {
   "cell_type": "code",
   "execution_count": 64,
   "metadata": {},
   "outputs": [],
   "source": [
    "from sklearn.ensemble import RandomForestClassifier"
   ]
  },
  {
   "cell_type": "code",
   "execution_count": 65,
   "metadata": {},
   "outputs": [],
   "source": [
    "# разделяем на отложенную и ообучающую\n",
    "X_train, X_test, y_train, y_test = train_test_split(train_data, target, \n",
    "                                                    test_size=0.2, \n",
    "                                                    random_state=23)"
   ]
  },
  {
   "cell_type": "code",
   "execution_count": 66,
   "metadata": {},
   "outputs": [
    {
     "name": "stdout",
     "output_type": "stream",
     "text": [
      "Fitting 3 folds for each of 5 candidates, totalling 15 fits\n"
     ]
    },
    {
     "name": "stderr",
     "output_type": "stream",
     "text": [
      "[Parallel(n_jobs=-1)]: Using backend LokyBackend with 4 concurrent workers.\n",
      "[Parallel(n_jobs=-1)]: Done  12 out of  15 | elapsed:  6.0min remaining:  1.5min\n",
      "[Parallel(n_jobs=-1)]: Done  15 out of  15 | elapsed:  6.3min finished\n"
     ]
    },
    {
     "data": {
      "text/plain": [
       "RandomizedSearchCV(cv=3, estimator=RandomForestClassifier(), n_iter=5,\n",
       "                   n_jobs=-1,\n",
       "                   param_distributions={'bootstrap': [True, False],\n",
       "                                        'min_samples_leaf': [8, 10, 12],\n",
       "                                        'min_samples_split': [2, 3, 5, 7],\n",
       "                                        'n_estimators': [600, 1000, 2000,\n",
       "                                                         3000]},\n",
       "                   random_state=54, verbose=5)"
      ]
     },
     "execution_count": 66,
     "metadata": {},
     "output_type": "execute_result"
    }
   ],
   "source": [
    "rf = RandomForestClassifier()\n",
    "rf_params = {\n",
    "    'bootstrap': [True,False],\n",
    "    'n_estimators': [600,1000,2000,3000],\n",
    "    'min_samples_split': [2,3,5,7],\n",
    "    'min_samples_leaf': [8,10,12]\n",
    "}\n",
    "# подбор гиперпараметров\n",
    "rf_rand = RandomizedSearchCV(rf, rf_params, cv=3, verbose=5, n_jobs=-1, n_iter=5, random_state=54, scoring = \"accuracy\")\n",
    "rf_rand.fit(X_train, y_train)"
   ]
  },
  {
   "cell_type": "code",
   "execution_count": 67,
   "metadata": {},
   "outputs": [
    {
     "name": "stdout",
     "output_type": "stream",
     "text": [
      "Accuracy (random forest auto): 0.7789624939933507 params {'n_estimators': 3000, 'min_samples_split': 7, 'min_samples_leaf': 10, 'bootstrap': True}\n"
     ]
    }
   ],
   "source": [
    "# лучший score и лучшие параметры на кросс-валидации\n",
    "print(\"Accuracy (random forest auto): {} params {}\"\n",
    "      .format(rf_rand.best_score_, rf_rand.best_params_))\n",
    "# записываем результаты на отложенной выборке в датафрейм\n",
    "report_df = get_scores(report_df, rf_rand, X_test,\n",
    "                       y_test, 'Random_Forest')"
   ]
  },
  {
   "cell_type": "code",
   "execution_count": 68,
   "metadata": {},
   "outputs": [
    {
     "data": {
      "text/html": [
       "<div>\n",
       "<style scoped>\n",
       "    .dataframe tbody tr th:only-of-type {\n",
       "        vertical-align: middle;\n",
       "    }\n",
       "\n",
       "    .dataframe tbody tr th {\n",
       "        vertical-align: top;\n",
       "    }\n",
       "\n",
       "    .dataframe thead th {\n",
       "        text-align: right;\n",
       "    }\n",
       "</style>\n",
       "<table border=\"1\" class=\"dataframe\">\n",
       "  <thead>\n",
       "    <tr style=\"text-align: right;\">\n",
       "      <th></th>\n",
       "      <th>ROC-AUC</th>\n",
       "      <th>F1</th>\n",
       "      <th>precision_0</th>\n",
       "      <th>precision_1</th>\n",
       "      <th>recall_0</th>\n",
       "      <th>recall_1</th>\n",
       "      <th>accuracy</th>\n",
       "    </tr>\n",
       "  </thead>\n",
       "  <tbody>\n",
       "    <tr>\n",
       "      <th>Random_Forest</th>\n",
       "      <td>0.854359</td>\n",
       "      <td>0.748335</td>\n",
       "      <td>0.807365</td>\n",
       "      <td>0.75767</td>\n",
       "      <td>0.822148</td>\n",
       "      <td>0.739227</td>\n",
       "      <td>0.78655</td>\n",
       "    </tr>\n",
       "  </tbody>\n",
       "</table>\n",
       "</div>"
      ],
      "text/plain": [
       "                ROC-AUC        F1  precision_0  precision_1  recall_0  \\\n",
       "Random_Forest  0.854359  0.748335     0.807365      0.75767  0.822148   \n",
       "\n",
       "               recall_1  accuracy  \n",
       "Random_Forest  0.739227   0.78655  "
      ]
     },
     "execution_count": 68,
     "metadata": {},
     "output_type": "execute_result"
    }
   ],
   "source": [
    "report_df"
   ]
  },
  {
   "cell_type": "markdown",
   "metadata": {},
   "source": [
    "# Logistic Regression model"
   ]
  },
  {
   "cell_type": "code",
   "execution_count": 69,
   "metadata": {},
   "outputs": [],
   "source": [
    "from sklearn.linear_model import LogisticRegression"
   ]
  },
  {
   "cell_type": "code",
   "execution_count": 70,
   "metadata": {},
   "outputs": [],
   "source": [
    "X_train, X_test, y_train, y_test = train_test_split(train_data, target, \n",
    "                                                    test_size=0.2, \n",
    "                                                    random_state=23)"
   ]
  },
  {
   "cell_type": "code",
   "execution_count": 71,
   "metadata": {},
   "outputs": [
    {
     "name": "stdout",
     "output_type": "stream",
     "text": [
      "Fitting 5 folds for each of 20 candidates, totalling 100 fits\n"
     ]
    },
    {
     "name": "stderr",
     "output_type": "stream",
     "text": [
      "[Parallel(n_jobs=-1)]: Using backend LokyBackend with 4 concurrent workers.\n",
      "[Parallel(n_jobs=-1)]: Done  10 tasks      | elapsed:    2.9s\n",
      "[Parallel(n_jobs=-1)]: Done  64 tasks      | elapsed:    8.8s\n",
      "[Parallel(n_jobs=-1)]: Done 100 out of 100 | elapsed:   12.9s finished\n"
     ]
    },
    {
     "data": {
      "text/plain": [
       "RandomizedSearchCV(cv=5, estimator=LogisticRegression(), n_iter=20, n_jobs=-1,\n",
       "                   param_distributions={'C': array([1.00000000e-03, 5.27263158e-01, 1.05352632e+00, 1.57978947e+00,\n",
       "       2.10605263e+00, 2.63231579e+00, 3.15857895e+00, 3.68484211e+00,\n",
       "       4.21110526e+00, 4.73736842e+00, 5.26363158e+00, 5.78989474e+00,\n",
       "       6.31615789e+00, 6.84242105e+00, 7.36868421e+00, 7.89494737e+00,\n",
       "       8.42121053e+00, 8.94747368e+00, 9.47373684e+00, 1.00000000e+01]),\n",
       "                                        'penalty': ['l1', 'l2']},\n",
       "                   random_state=54, scoring='accuracy', verbose=5)"
      ]
     },
     "execution_count": 71,
     "metadata": {},
     "output_type": "execute_result"
    }
   ],
   "source": [
    "lr = LogisticRegression()\n",
    "lr_params = {\n",
    "    'C': np.linspace(0.001, 10, 20), \n",
    "    'penalty': ['l1', 'l2']\n",
    "}\n",
    "# подбор гиперпараметров\n",
    "lr_rand = RandomizedSearchCV(lr, lr_params, cv=5, verbose=5, n_jobs=-1, n_iter=20, random_state=54, scoring = \"accuracy\")\n",
    "lr_rand.fit(X_train, y_train)"
   ]
  },
  {
   "cell_type": "code",
   "execution_count": 72,
   "metadata": {},
   "outputs": [
    {
     "name": "stdout",
     "output_type": "stream",
     "text": [
      "Accuracy (random forest auto): 0.7605999999999999 params {'penalty': 'l2', 'C': 8.947473684210527}\n"
     ]
    }
   ],
   "source": [
    "# лучший score и лучшие параметры на кросс-валидации\n",
    "print(\"Accuracy (random forest auto): {} params {}\"\n",
    "      .format(lr_rand.best_score_, lr_rand.best_params_))\n",
    "# записываем результаты на отложенной выборке в датафрейм\n",
    "report_df = get_scores(report_df, lr_rand, X_test,\n",
    "                       y_test, 'Logistic_Regression')"
   ]
  },
  {
   "cell_type": "code",
   "execution_count": 73,
   "metadata": {},
   "outputs": [
    {
     "data": {
      "text/html": [
       "<div>\n",
       "<style scoped>\n",
       "    .dataframe tbody tr th:only-of-type {\n",
       "        vertical-align: middle;\n",
       "    }\n",
       "\n",
       "    .dataframe tbody tr th {\n",
       "        vertical-align: top;\n",
       "    }\n",
       "\n",
       "    .dataframe thead th {\n",
       "        text-align: right;\n",
       "    }\n",
       "</style>\n",
       "<table border=\"1\" class=\"dataframe\">\n",
       "  <thead>\n",
       "    <tr style=\"text-align: right;\">\n",
       "      <th></th>\n",
       "      <th>ROC-AUC</th>\n",
       "      <th>F1</th>\n",
       "      <th>precision_0</th>\n",
       "      <th>precision_1</th>\n",
       "      <th>recall_0</th>\n",
       "      <th>recall_1</th>\n",
       "      <th>accuracy</th>\n",
       "    </tr>\n",
       "  </thead>\n",
       "  <tbody>\n",
       "    <tr>\n",
       "      <th>Random_Forest</th>\n",
       "      <td>0.854359</td>\n",
       "      <td>0.748335</td>\n",
       "      <td>0.807365</td>\n",
       "      <td>0.757670</td>\n",
       "      <td>0.822148</td>\n",
       "      <td>0.739227</td>\n",
       "      <td>0.78655</td>\n",
       "    </tr>\n",
       "    <tr>\n",
       "      <th>Logistic_Regression</th>\n",
       "      <td>0.818090</td>\n",
       "      <td>0.676340</td>\n",
       "      <td>0.745805</td>\n",
       "      <td>0.745511</td>\n",
       "      <td>0.841072</td>\n",
       "      <td>0.618915</td>\n",
       "      <td>0.74570</td>\n",
       "    </tr>\n",
       "  </tbody>\n",
       "</table>\n",
       "</div>"
      ],
      "text/plain": [
       "                      ROC-AUC        F1  precision_0  precision_1  recall_0  \\\n",
       "Random_Forest        0.854359  0.748335     0.807365     0.757670  0.822148   \n",
       "Logistic_Regression  0.818090  0.676340     0.745805     0.745511  0.841072   \n",
       "\n",
       "                     recall_1  accuracy  \n",
       "Random_Forest        0.739227   0.78655  \n",
       "Logistic_Regression  0.618915   0.74570  "
      ]
     },
     "execution_count": 73,
     "metadata": {},
     "output_type": "execute_result"
    }
   ],
   "source": [
    "report_df"
   ]
  },
  {
   "cell_type": "markdown",
   "metadata": {},
   "source": [
    "# LightGBM model"
   ]
  },
  {
   "cell_type": "code",
   "execution_count": 74,
   "metadata": {},
   "outputs": [],
   "source": [
    "import lightgbm as lgb\n",
    "from scipy.stats import randint as sp_randint\n",
    "from scipy.stats import uniform as sp_uniform"
   ]
  },
  {
   "cell_type": "code",
   "execution_count": 75,
   "metadata": {},
   "outputs": [],
   "source": [
    "X_train, X_test, y_train, y_test = train_test_split(train_data, target, \n",
    "                                                    test_size=0.2, \n",
    "                                                    random_state=23)"
   ]
  },
  {
   "cell_type": "code",
   "execution_count": 76,
   "metadata": {},
   "outputs": [
    {
     "name": "stdout",
     "output_type": "stream",
     "text": [
      "Fitting 5 folds for each of 20 candidates, totalling 100 fits\n"
     ]
    },
    {
     "name": "stderr",
     "output_type": "stream",
     "text": [
      "[Parallel(n_jobs=-1)]: Using backend LokyBackend with 4 concurrent workers.\n",
      "[Parallel(n_jobs=-1)]: Done  12 tasks      | elapsed:    0.4s\n",
      "[Parallel(n_jobs=-1)]: Done 100 out of 100 | elapsed:   30.2s finished\n"
     ]
    },
    {
     "data": {
      "text/plain": [
       "RandomizedSearchCV(cv=5, estimator=LGBMClassifier(), n_iter=20, n_jobs=-1,\n",
       "                   param_distributions={'colsample_bytree': <scipy.stats._distn_infrastructure.rv_frozen object at 0x7f4d3185a130>,\n",
       "                                        'metric': 'binary_logloss',\n",
       "                                        'min_child_samples': <scipy.stats._distn_infrastructure.rv_frozen object at 0x7f4d31842ca0>,\n",
       "                                        'min_child_weight': [1e-05, 0.001, 0.01,\n",
       "                                                             0.1, 1, 10.0,\n",
       "                                                             100.0, 100...\n",
       "                                                             10000.0],\n",
       "                                        'n_estimators': [100, 250, 500, 1000],\n",
       "                                        'num_leaves': <scipy.stats._distn_infrastructure.rv_frozen object at 0x7f4d31842940>,\n",
       "                                        'reg_alpha': [0, 0.1, 1, 2, 5, 7, 10,\n",
       "                                                      50, 100],\n",
       "                                        'reg_lambda': [0, 0.1, 1, 5, 10, 20, 50,\n",
       "                                                       100],\n",
       "                                        'scale_pos_weight': [1, 2, 6, 12],\n",
       "                                        'subsample': <scipy.stats._distn_infrastructure.rv_frozen object at 0x7f4d31842eb0>},\n",
       "                   random_state=54, scoring='accuracy', verbose=5)"
      ]
     },
     "execution_count": 76,
     "metadata": {},
     "output_type": "execute_result"
    }
   ],
   "source": [
    "lgbc = lgb.LGBMClassifier()\n",
    "lgbc_params = {\n",
    "             'num_leaves': sp_randint(6, 50), \n",
    "             'min_child_samples': sp_randint(100, 500), \n",
    "             'min_child_weight': [1e-5, 1e-3, 1e-2, 1e-1, 1, 1e1, 1e2, 1e3, 1e4],\n",
    "             'subsample': sp_uniform(loc=0.2, scale=2), \n",
    "             'colsample_bytree': sp_uniform(loc=0.4, scale=0.6),\n",
    "             'reg_alpha': [0, 1e-1, 1, 2, 5, 7, 10, 50, 100],\n",
    "             'reg_lambda': [0, 1e-1, 1, 5, 10, 20, 50, 100],\n",
    "             'scale_pos_weight':[1,2,6,12],\n",
    "             'metric':'binary_logloss',\n",
    "             'n_estimators': [100, 250, 500, 1000]\n",
    "}\n",
    "lgbc_rand = RandomizedSearchCV(lgbc, lgbc_params, cv=5, verbose=5, n_jobs=-1, n_iter=20, random_state=54, scoring = 'accuracy')\n",
    "lgbc_rand.fit(X_train, y_train)"
   ]
  },
  {
   "cell_type": "code",
   "execution_count": 77,
   "metadata": {},
   "outputs": [
    {
     "name": "stdout",
     "output_type": "stream",
     "text": [
      "Accuracy (random forest auto): 0.777425 params {'colsample_bytree': 0.988449664619988, 'metric': 'a', 'min_child_samples': 186, 'min_child_weight': 0.1, 'n_estimators': 500, 'num_leaves': 32, 'reg_alpha': 0.1, 'reg_lambda': 50, 'scale_pos_weight': 1, 'subsample': 0.39137782306411545}\n"
     ]
    }
   ],
   "source": [
    "# лучший score и параметры на кросс-валидации\n",
    "print(\"Accuracy (random forest auto): {} params {}\"\n",
    "      .format(lgbc_rand.best_score_, lgbc_rand.best_params_))\n",
    "# записываем результаты на отложенной выборке в датафрейм\n",
    "report_df = get_scores(report_df, lgbc_rand, X_test,\n",
    "                       y_test, 'LGBM')"
   ]
  },
  {
   "cell_type": "code",
   "execution_count": 78,
   "metadata": {},
   "outputs": [
    {
     "data": {
      "text/html": [
       "<div>\n",
       "<style scoped>\n",
       "    .dataframe tbody tr th:only-of-type {\n",
       "        vertical-align: middle;\n",
       "    }\n",
       "\n",
       "    .dataframe tbody tr th {\n",
       "        vertical-align: top;\n",
       "    }\n",
       "\n",
       "    .dataframe thead th {\n",
       "        text-align: right;\n",
       "    }\n",
       "</style>\n",
       "<table border=\"1\" class=\"dataframe\">\n",
       "  <thead>\n",
       "    <tr style=\"text-align: right;\">\n",
       "      <th></th>\n",
       "      <th>ROC-AUC</th>\n",
       "      <th>F1</th>\n",
       "      <th>precision_0</th>\n",
       "      <th>precision_1</th>\n",
       "      <th>recall_0</th>\n",
       "      <th>recall_1</th>\n",
       "      <th>accuracy</th>\n",
       "    </tr>\n",
       "  </thead>\n",
       "  <tbody>\n",
       "    <tr>\n",
       "      <th>Random_Forest</th>\n",
       "      <td>0.854359</td>\n",
       "      <td>0.748335</td>\n",
       "      <td>0.807365</td>\n",
       "      <td>0.757670</td>\n",
       "      <td>0.822148</td>\n",
       "      <td>0.739227</td>\n",
       "      <td>0.78655</td>\n",
       "    </tr>\n",
       "    <tr>\n",
       "      <th>Logistic_Regression</th>\n",
       "      <td>0.818090</td>\n",
       "      <td>0.676340</td>\n",
       "      <td>0.745805</td>\n",
       "      <td>0.745511</td>\n",
       "      <td>0.841072</td>\n",
       "      <td>0.618915</td>\n",
       "      <td>0.74570</td>\n",
       "    </tr>\n",
       "    <tr>\n",
       "      <th>LGBM</th>\n",
       "      <td>0.853518</td>\n",
       "      <td>0.748131</td>\n",
       "      <td>0.807623</td>\n",
       "      <td>0.756278</td>\n",
       "      <td>0.820571</td>\n",
       "      <td>0.740158</td>\n",
       "      <td>0.78605</td>\n",
       "    </tr>\n",
       "  </tbody>\n",
       "</table>\n",
       "</div>"
      ],
      "text/plain": [
       "                      ROC-AUC        F1  precision_0  precision_1  recall_0  \\\n",
       "Random_Forest        0.854359  0.748335     0.807365     0.757670  0.822148   \n",
       "Logistic_Regression  0.818090  0.676340     0.745805     0.745511  0.841072   \n",
       "LGBM                 0.853518  0.748131     0.807623     0.756278  0.820571   \n",
       "\n",
       "                     recall_1  accuracy  \n",
       "Random_Forest        0.739227   0.78655  \n",
       "Logistic_Regression  0.618915   0.74570  \n",
       "LGBM                 0.740158   0.78605  "
      ]
     },
     "execution_count": 78,
     "metadata": {},
     "output_type": "execute_result"
    }
   ],
   "source": [
    "report_df"
   ]
  },
  {
   "cell_type": "markdown",
   "metadata": {},
   "source": [
    "# XGBoost"
   ]
  },
  {
   "cell_type": "code",
   "execution_count": 82,
   "metadata": {},
   "outputs": [],
   "source": [
    "import xgboost as xgb\n",
    "from scipy.stats import randint as sp_randint\n",
    "from scipy.stats import uniform as sp_uniform"
   ]
  },
  {
   "cell_type": "code",
   "execution_count": 83,
   "metadata": {},
   "outputs": [],
   "source": [
    "X_train, X_test, y_train, y_test = train_test_split(train_data, target, \n",
    "                                                    test_size=0.2, \n",
    "                                                    random_state=23)"
   ]
  },
  {
   "cell_type": "code",
   "execution_count": 86,
   "metadata": {},
   "outputs": [
    {
     "name": "stdout",
     "output_type": "stream",
     "text": [
      "Fitting 5 folds for each of 10 candidates, totalling 50 fits\n",
      "[CV] colsample_bytree=0.6076870280802862, gamma=3, learning_rate=0.01, max_depth=3, min_child_weight=0.01, n_estimators=250, reg_alpha=50, reg_lambda=1, subsample=0.46815963575839287 \n"
     ]
    },
    {
     "name": "stderr",
     "output_type": "stream",
     "text": [
      "[Parallel(n_jobs=1)]: Using backend SequentialBackend with 1 concurrent workers.\n"
     ]
    },
    {
     "name": "stdout",
     "output_type": "stream",
     "text": [
      "[CV]  colsample_bytree=0.6076870280802862, gamma=3, learning_rate=0.01, max_depth=3, min_child_weight=0.01, n_estimators=250, reg_alpha=50, reg_lambda=1, subsample=0.46815963575839287, score=0.774, total=   3.5s\n",
      "[CV] colsample_bytree=0.6076870280802862, gamma=3, learning_rate=0.01, max_depth=3, min_child_weight=0.01, n_estimators=250, reg_alpha=50, reg_lambda=1, subsample=0.46815963575839287 \n"
     ]
    },
    {
     "name": "stderr",
     "output_type": "stream",
     "text": [
      "[Parallel(n_jobs=1)]: Done   1 out of   1 | elapsed:    3.5s remaining:    0.0s\n"
     ]
    },
    {
     "name": "stdout",
     "output_type": "stream",
     "text": [
      "[CV]  colsample_bytree=0.6076870280802862, gamma=3, learning_rate=0.01, max_depth=3, min_child_weight=0.01, n_estimators=250, reg_alpha=50, reg_lambda=1, subsample=0.46815963575839287, score=0.773, total=   2.8s\n",
      "[CV] colsample_bytree=0.6076870280802862, gamma=3, learning_rate=0.01, max_depth=3, min_child_weight=0.01, n_estimators=250, reg_alpha=50, reg_lambda=1, subsample=0.46815963575839287 \n"
     ]
    },
    {
     "name": "stderr",
     "output_type": "stream",
     "text": [
      "[Parallel(n_jobs=1)]: Done   2 out of   2 | elapsed:    6.3s remaining:    0.0s\n"
     ]
    },
    {
     "name": "stdout",
     "output_type": "stream",
     "text": [
      "[CV]  colsample_bytree=0.6076870280802862, gamma=3, learning_rate=0.01, max_depth=3, min_child_weight=0.01, n_estimators=250, reg_alpha=50, reg_lambda=1, subsample=0.46815963575839287, score=0.778, total=   3.0s\n",
      "[CV] colsample_bytree=0.6076870280802862, gamma=3, learning_rate=0.01, max_depth=3, min_child_weight=0.01, n_estimators=250, reg_alpha=50, reg_lambda=1, subsample=0.46815963575839287 \n",
      "[CV]  colsample_bytree=0.6076870280802862, gamma=3, learning_rate=0.01, max_depth=3, min_child_weight=0.01, n_estimators=250, reg_alpha=50, reg_lambda=1, subsample=0.46815963575839287, score=0.770, total=   2.7s\n",
      "[CV] colsample_bytree=0.6076870280802862, gamma=3, learning_rate=0.01, max_depth=3, min_child_weight=0.01, n_estimators=250, reg_alpha=50, reg_lambda=1, subsample=0.46815963575839287 \n",
      "[CV]  colsample_bytree=0.6076870280802862, gamma=3, learning_rate=0.01, max_depth=3, min_child_weight=0.01, n_estimators=250, reg_alpha=50, reg_lambda=1, subsample=0.46815963575839287, score=0.775, total=   2.6s\n",
      "[CV] colsample_bytree=0.37144366073468477, gamma=1.5, learning_rate=0.15, max_depth=6, min_child_weight=1e-05, n_estimators=250, reg_alpha=7, reg_lambda=0.1, subsample=1.8861167075331287 \n",
      "[CV]  colsample_bytree=0.37144366073468477, gamma=1.5, learning_rate=0.15, max_depth=6, min_child_weight=1e-05, n_estimators=250, reg_alpha=7, reg_lambda=0.1, subsample=1.8861167075331287, score=nan, total=   0.0s\n",
      "[CV] colsample_bytree=0.37144366073468477, gamma=1.5, learning_rate=0.15, max_depth=6, min_child_weight=1e-05, n_estimators=250, reg_alpha=7, reg_lambda=0.1, subsample=1.8861167075331287 \n",
      "[CV]  colsample_bytree=0.37144366073468477, gamma=1.5, learning_rate=0.15, max_depth=6, min_child_weight=1e-05, n_estimators=250, reg_alpha=7, reg_lambda=0.1, subsample=1.8861167075331287, score=nan, total=   0.0s\n",
      "[CV] colsample_bytree=0.37144366073468477, gamma=1.5, learning_rate=0.15, max_depth=6, min_child_weight=1e-05, n_estimators=250, reg_alpha=7, reg_lambda=0.1, subsample=1.8861167075331287 \n",
      "[CV]  colsample_bytree=0.37144366073468477, gamma=1.5, learning_rate=0.15, max_depth=6, min_child_weight=1e-05, n_estimators=250, reg_alpha=7, reg_lambda=0.1, subsample=1.8861167075331287, score=nan, total=   0.0s\n",
      "[CV] colsample_bytree=0.37144366073468477, gamma=1.5, learning_rate=0.15, max_depth=6, min_child_weight=1e-05, n_estimators=250, reg_alpha=7, reg_lambda=0.1, subsample=1.8861167075331287 \n",
      "[CV]  colsample_bytree=0.37144366073468477, gamma=1.5, learning_rate=0.15, max_depth=6, min_child_weight=1e-05, n_estimators=250, reg_alpha=7, reg_lambda=0.1, subsample=1.8861167075331287, score=nan, total=   0.0s\n",
      "[CV] colsample_bytree=0.37144366073468477, gamma=1.5, learning_rate=0.15, max_depth=6, min_child_weight=1e-05, n_estimators=250, reg_alpha=7, reg_lambda=0.1, subsample=1.8861167075331287 \n",
      "[CV]  colsample_bytree=0.37144366073468477, gamma=1.5, learning_rate=0.15, max_depth=6, min_child_weight=1e-05, n_estimators=250, reg_alpha=7, reg_lambda=0.1, subsample=1.8861167075331287, score=nan, total=   0.0s\n",
      "[CV] colsample_bytree=0.6102715604651359, gamma=4, learning_rate=0.2, max_depth=10, min_child_weight=10000.0, n_estimators=500, reg_alpha=10, reg_lambda=5, subsample=1.9268045967116976 \n",
      "[CV]  colsample_bytree=0.6102715604651359, gamma=4, learning_rate=0.2, max_depth=10, min_child_weight=10000.0, n_estimators=500, reg_alpha=10, reg_lambda=5, subsample=1.9268045967116976, score=nan, total=   0.0s\n",
      "[CV] colsample_bytree=0.6102715604651359, gamma=4, learning_rate=0.2, max_depth=10, min_child_weight=10000.0, n_estimators=500, reg_alpha=10, reg_lambda=5, subsample=1.9268045967116976 \n",
      "[CV]  colsample_bytree=0.6102715604651359, gamma=4, learning_rate=0.2, max_depth=10, min_child_weight=10000.0, n_estimators=500, reg_alpha=10, reg_lambda=5, subsample=1.9268045967116976, score=nan, total=   0.0s\n",
      "[CV] colsample_bytree=0.6102715604651359, gamma=4, learning_rate=0.2, max_depth=10, min_child_weight=10000.0, n_estimators=500, reg_alpha=10, reg_lambda=5, subsample=1.9268045967116976 \n",
      "[CV]  colsample_bytree=0.6102715604651359, gamma=4, learning_rate=0.2, max_depth=10, min_child_weight=10000.0, n_estimators=500, reg_alpha=10, reg_lambda=5, subsample=1.9268045967116976, score=nan, total=   0.0s\n",
      "[CV] colsample_bytree=0.6102715604651359, gamma=4, learning_rate=0.2, max_depth=10, min_child_weight=10000.0, n_estimators=500, reg_alpha=10, reg_lambda=5, subsample=1.9268045967116976 \n",
      "[CV]  colsample_bytree=0.6102715604651359, gamma=4, learning_rate=0.2, max_depth=10, min_child_weight=10000.0, n_estimators=500, reg_alpha=10, reg_lambda=5, subsample=1.9268045967116976, score=nan, total=   0.0s\n",
      "[CV] colsample_bytree=0.6102715604651359, gamma=4, learning_rate=0.2, max_depth=10, min_child_weight=10000.0, n_estimators=500, reg_alpha=10, reg_lambda=5, subsample=1.9268045967116976 \n",
      "[CV]  colsample_bytree=0.6102715604651359, gamma=4, learning_rate=0.2, max_depth=10, min_child_weight=10000.0, n_estimators=500, reg_alpha=10, reg_lambda=5, subsample=1.9268045967116976, score=nan, total=   0.0s\n",
      "[CV] colsample_bytree=1.0136262163687364, gamma=0.5, learning_rate=0.15, max_depth=10, min_child_weight=10.0, n_estimators=500, reg_alpha=1, reg_lambda=100, subsample=1.8666665014482668 \n",
      "[CV]  colsample_bytree=1.0136262163687364, gamma=0.5, learning_rate=0.15, max_depth=10, min_child_weight=10.0, n_estimators=500, reg_alpha=1, reg_lambda=100, subsample=1.8666665014482668, score=nan, total=   0.0s\n",
      "[CV] colsample_bytree=1.0136262163687364, gamma=0.5, learning_rate=0.15, max_depth=10, min_child_weight=10.0, n_estimators=500, reg_alpha=1, reg_lambda=100, subsample=1.8666665014482668 \n",
      "[CV]  colsample_bytree=1.0136262163687364, gamma=0.5, learning_rate=0.15, max_depth=10, min_child_weight=10.0, n_estimators=500, reg_alpha=1, reg_lambda=100, subsample=1.8666665014482668, score=nan, total=   0.0s\n",
      "[CV] colsample_bytree=1.0136262163687364, gamma=0.5, learning_rate=0.15, max_depth=10, min_child_weight=10.0, n_estimators=500, reg_alpha=1, reg_lambda=100, subsample=1.8666665014482668 \n",
      "[CV]  colsample_bytree=1.0136262163687364, gamma=0.5, learning_rate=0.15, max_depth=10, min_child_weight=10.0, n_estimators=500, reg_alpha=1, reg_lambda=100, subsample=1.8666665014482668, score=nan, total=   0.0s\n",
      "[CV] colsample_bytree=1.0136262163687364, gamma=0.5, learning_rate=0.15, max_depth=10, min_child_weight=10.0, n_estimators=500, reg_alpha=1, reg_lambda=100, subsample=1.8666665014482668 \n",
      "[CV]  colsample_bytree=1.0136262163687364, gamma=0.5, learning_rate=0.15, max_depth=10, min_child_weight=10.0, n_estimators=500, reg_alpha=1, reg_lambda=100, subsample=1.8666665014482668, score=nan, total=   0.0s\n",
      "[CV] colsample_bytree=1.0136262163687364, gamma=0.5, learning_rate=0.15, max_depth=10, min_child_weight=10.0, n_estimators=500, reg_alpha=1, reg_lambda=100, subsample=1.8666665014482668 \n",
      "[CV]  colsample_bytree=1.0136262163687364, gamma=0.5, learning_rate=0.15, max_depth=10, min_child_weight=10.0, n_estimators=500, reg_alpha=1, reg_lambda=100, subsample=1.8666665014482668, score=nan, total=   0.0s\n",
      "[CV] colsample_bytree=0.7083099649576006, gamma=2, learning_rate=0.05, max_depth=6, min_child_weight=0.1, n_estimators=500, reg_alpha=1, reg_lambda=100, subsample=0.7675145143612605 \n",
      "[CV]  colsample_bytree=0.7083099649576006, gamma=2, learning_rate=0.05, max_depth=6, min_child_weight=0.1, n_estimators=500, reg_alpha=1, reg_lambda=100, subsample=0.7675145143612605, score=0.778, total=   9.7s\n",
      "[CV] colsample_bytree=0.7083099649576006, gamma=2, learning_rate=0.05, max_depth=6, min_child_weight=0.1, n_estimators=500, reg_alpha=1, reg_lambda=100, subsample=0.7675145143612605 \n",
      "[CV]  colsample_bytree=0.7083099649576006, gamma=2, learning_rate=0.05, max_depth=6, min_child_weight=0.1, n_estimators=500, reg_alpha=1, reg_lambda=100, subsample=0.7675145143612605, score=0.779, total=   9.7s\n",
      "[CV] colsample_bytree=0.7083099649576006, gamma=2, learning_rate=0.05, max_depth=6, min_child_weight=0.1, n_estimators=500, reg_alpha=1, reg_lambda=100, subsample=0.7675145143612605 \n",
      "[CV]  colsample_bytree=0.7083099649576006, gamma=2, learning_rate=0.05, max_depth=6, min_child_weight=0.1, n_estimators=500, reg_alpha=1, reg_lambda=100, subsample=0.7675145143612605, score=0.784, total=   8.7s\n",
      "[CV] colsample_bytree=0.7083099649576006, gamma=2, learning_rate=0.05, max_depth=6, min_child_weight=0.1, n_estimators=500, reg_alpha=1, reg_lambda=100, subsample=0.7675145143612605 \n"
     ]
    },
    {
     "name": "stdout",
     "output_type": "stream",
     "text": [
      "[CV]  colsample_bytree=0.7083099649576006, gamma=2, learning_rate=0.05, max_depth=6, min_child_weight=0.1, n_estimators=500, reg_alpha=1, reg_lambda=100, subsample=0.7675145143612605, score=0.779, total=   8.2s\n",
      "[CV] colsample_bytree=0.7083099649576006, gamma=2, learning_rate=0.05, max_depth=6, min_child_weight=0.1, n_estimators=500, reg_alpha=1, reg_lambda=100, subsample=0.7675145143612605 \n",
      "[CV]  colsample_bytree=0.7083099649576006, gamma=2, learning_rate=0.05, max_depth=6, min_child_weight=0.1, n_estimators=500, reg_alpha=1, reg_lambda=100, subsample=0.7675145143612605, score=0.782, total=   8.3s\n",
      "[CV] colsample_bytree=0.9609369457853925, gamma=0.5, learning_rate=0.2, max_depth=4, min_child_weight=0.1, n_estimators=1000, reg_alpha=100, reg_lambda=100, subsample=0.5749625462813173 \n",
      "[CV]  colsample_bytree=0.9609369457853925, gamma=0.5, learning_rate=0.2, max_depth=4, min_child_weight=0.1, n_estimators=1000, reg_alpha=100, reg_lambda=100, subsample=0.5749625462813173, score=0.777, total=   9.4s\n",
      "[CV] colsample_bytree=0.9609369457853925, gamma=0.5, learning_rate=0.2, max_depth=4, min_child_weight=0.1, n_estimators=1000, reg_alpha=100, reg_lambda=100, subsample=0.5749625462813173 \n",
      "[CV]  colsample_bytree=0.9609369457853925, gamma=0.5, learning_rate=0.2, max_depth=4, min_child_weight=0.1, n_estimators=1000, reg_alpha=100, reg_lambda=100, subsample=0.5749625462813173, score=0.779, total=   9.8s\n",
      "[CV] colsample_bytree=0.9609369457853925, gamma=0.5, learning_rate=0.2, max_depth=4, min_child_weight=0.1, n_estimators=1000, reg_alpha=100, reg_lambda=100, subsample=0.5749625462813173 \n",
      "[CV]  colsample_bytree=0.9609369457853925, gamma=0.5, learning_rate=0.2, max_depth=4, min_child_weight=0.1, n_estimators=1000, reg_alpha=100, reg_lambda=100, subsample=0.5749625462813173, score=0.782, total=   9.2s\n",
      "[CV] colsample_bytree=0.9609369457853925, gamma=0.5, learning_rate=0.2, max_depth=4, min_child_weight=0.1, n_estimators=1000, reg_alpha=100, reg_lambda=100, subsample=0.5749625462813173 \n",
      "[CV]  colsample_bytree=0.9609369457853925, gamma=0.5, learning_rate=0.2, max_depth=4, min_child_weight=0.1, n_estimators=1000, reg_alpha=100, reg_lambda=100, subsample=0.5749625462813173, score=0.778, total=  10.4s\n",
      "[CV] colsample_bytree=0.9609369457853925, gamma=0.5, learning_rate=0.2, max_depth=4, min_child_weight=0.1, n_estimators=1000, reg_alpha=100, reg_lambda=100, subsample=0.5749625462813173 \n",
      "[CV]  colsample_bytree=0.9609369457853925, gamma=0.5, learning_rate=0.2, max_depth=4, min_child_weight=0.1, n_estimators=1000, reg_alpha=100, reg_lambda=100, subsample=0.5749625462813173, score=0.779, total=  13.8s\n",
      "[CV] colsample_bytree=0.5989814762159096, gamma=1.5, learning_rate=0.1, max_depth=5, min_child_weight=100.0, n_estimators=250, reg_alpha=2, reg_lambda=20, subsample=0.5581102116299395 \n",
      "[CV]  colsample_bytree=0.5989814762159096, gamma=1.5, learning_rate=0.1, max_depth=5, min_child_weight=100.0, n_estimators=250, reg_alpha=2, reg_lambda=20, subsample=0.5581102116299395, score=0.777, total=   4.2s\n",
      "[CV] colsample_bytree=0.5989814762159096, gamma=1.5, learning_rate=0.1, max_depth=5, min_child_weight=100.0, n_estimators=250, reg_alpha=2, reg_lambda=20, subsample=0.5581102116299395 \n",
      "[CV]  colsample_bytree=0.5989814762159096, gamma=1.5, learning_rate=0.1, max_depth=5, min_child_weight=100.0, n_estimators=250, reg_alpha=2, reg_lambda=20, subsample=0.5581102116299395, score=0.779, total=   4.1s\n",
      "[CV] colsample_bytree=0.5989814762159096, gamma=1.5, learning_rate=0.1, max_depth=5, min_child_weight=100.0, n_estimators=250, reg_alpha=2, reg_lambda=20, subsample=0.5581102116299395 \n",
      "[CV]  colsample_bytree=0.5989814762159096, gamma=1.5, learning_rate=0.1, max_depth=5, min_child_weight=100.0, n_estimators=250, reg_alpha=2, reg_lambda=20, subsample=0.5581102116299395, score=0.782, total=   3.5s\n",
      "[CV] colsample_bytree=0.5989814762159096, gamma=1.5, learning_rate=0.1, max_depth=5, min_child_weight=100.0, n_estimators=250, reg_alpha=2, reg_lambda=20, subsample=0.5581102116299395 \n",
      "[CV]  colsample_bytree=0.5989814762159096, gamma=1.5, learning_rate=0.1, max_depth=5, min_child_weight=100.0, n_estimators=250, reg_alpha=2, reg_lambda=20, subsample=0.5581102116299395, score=0.779, total=   5.2s\n",
      "[CV] colsample_bytree=0.5989814762159096, gamma=1.5, learning_rate=0.1, max_depth=5, min_child_weight=100.0, n_estimators=250, reg_alpha=2, reg_lambda=20, subsample=0.5581102116299395 \n",
      "[CV]  colsample_bytree=0.5989814762159096, gamma=1.5, learning_rate=0.1, max_depth=5, min_child_weight=100.0, n_estimators=250, reg_alpha=2, reg_lambda=20, subsample=0.5581102116299395, score=0.782, total=  11.4s\n",
      "[CV] colsample_bytree=0.9030776682681732, gamma=1, learning_rate=0.01, max_depth=3, min_child_weight=0.001, n_estimators=250, reg_alpha=5, reg_lambda=0, subsample=2.019706935630423 \n",
      "[CV]  colsample_bytree=0.9030776682681732, gamma=1, learning_rate=0.01, max_depth=3, min_child_weight=0.001, n_estimators=250, reg_alpha=5, reg_lambda=0, subsample=2.019706935630423, score=nan, total=   0.0s\n",
      "[CV] colsample_bytree=0.9030776682681732, gamma=1, learning_rate=0.01, max_depth=3, min_child_weight=0.001, n_estimators=250, reg_alpha=5, reg_lambda=0, subsample=2.019706935630423 \n",
      "[CV]  colsample_bytree=0.9030776682681732, gamma=1, learning_rate=0.01, max_depth=3, min_child_weight=0.001, n_estimators=250, reg_alpha=5, reg_lambda=0, subsample=2.019706935630423, score=nan, total=   0.0s\n",
      "[CV] colsample_bytree=0.9030776682681732, gamma=1, learning_rate=0.01, max_depth=3, min_child_weight=0.001, n_estimators=250, reg_alpha=5, reg_lambda=0, subsample=2.019706935630423 \n",
      "[CV]  colsample_bytree=0.9030776682681732, gamma=1, learning_rate=0.01, max_depth=3, min_child_weight=0.001, n_estimators=250, reg_alpha=5, reg_lambda=0, subsample=2.019706935630423, score=nan, total=   0.0s\n",
      "[CV] colsample_bytree=0.9030776682681732, gamma=1, learning_rate=0.01, max_depth=3, min_child_weight=0.001, n_estimators=250, reg_alpha=5, reg_lambda=0, subsample=2.019706935630423 \n",
      "[CV]  colsample_bytree=0.9030776682681732, gamma=1, learning_rate=0.01, max_depth=3, min_child_weight=0.001, n_estimators=250, reg_alpha=5, reg_lambda=0, subsample=2.019706935630423, score=nan, total=   0.0s\n",
      "[CV] colsample_bytree=0.9030776682681732, gamma=1, learning_rate=0.01, max_depth=3, min_child_weight=0.001, n_estimators=250, reg_alpha=5, reg_lambda=0, subsample=2.019706935630423 \n",
      "[CV]  colsample_bytree=0.9030776682681732, gamma=1, learning_rate=0.01, max_depth=3, min_child_weight=0.001, n_estimators=250, reg_alpha=5, reg_lambda=0, subsample=2.019706935630423, score=nan, total=   0.0s\n",
      "[CV] colsample_bytree=1.1666979932130748, gamma=4, learning_rate=0.01, max_depth=10, min_child_weight=0.01, n_estimators=1000, reg_alpha=50, reg_lambda=5, subsample=1.7926884438232338 \n",
      "[CV]  colsample_bytree=1.1666979932130748, gamma=4, learning_rate=0.01, max_depth=10, min_child_weight=0.01, n_estimators=1000, reg_alpha=50, reg_lambda=5, subsample=1.7926884438232338, score=nan, total=   0.0s\n",
      "[CV] colsample_bytree=1.1666979932130748, gamma=4, learning_rate=0.01, max_depth=10, min_child_weight=0.01, n_estimators=1000, reg_alpha=50, reg_lambda=5, subsample=1.7926884438232338 \n",
      "[CV]  colsample_bytree=1.1666979932130748, gamma=4, learning_rate=0.01, max_depth=10, min_child_weight=0.01, n_estimators=1000, reg_alpha=50, reg_lambda=5, subsample=1.7926884438232338, score=nan, total=   0.0s\n",
      "[CV] colsample_bytree=1.1666979932130748, gamma=4, learning_rate=0.01, max_depth=10, min_child_weight=0.01, n_estimators=1000, reg_alpha=50, reg_lambda=5, subsample=1.7926884438232338 \n",
      "[CV]  colsample_bytree=1.1666979932130748, gamma=4, learning_rate=0.01, max_depth=10, min_child_weight=0.01, n_estimators=1000, reg_alpha=50, reg_lambda=5, subsample=1.7926884438232338, score=nan, total=   0.0s\n",
      "[CV] colsample_bytree=1.1666979932130748, gamma=4, learning_rate=0.01, max_depth=10, min_child_weight=0.01, n_estimators=1000, reg_alpha=50, reg_lambda=5, subsample=1.7926884438232338 \n",
      "[CV]  colsample_bytree=1.1666979932130748, gamma=4, learning_rate=0.01, max_depth=10, min_child_weight=0.01, n_estimators=1000, reg_alpha=50, reg_lambda=5, subsample=1.7926884438232338, score=nan, total=   0.0s\n",
      "[CV] colsample_bytree=1.1666979932130748, gamma=4, learning_rate=0.01, max_depth=10, min_child_weight=0.01, n_estimators=1000, reg_alpha=50, reg_lambda=5, subsample=1.7926884438232338 \n",
      "[CV]  colsample_bytree=1.1666979932130748, gamma=4, learning_rate=0.01, max_depth=10, min_child_weight=0.01, n_estimators=1000, reg_alpha=50, reg_lambda=5, subsample=1.7926884438232338, score=nan, total=   0.0s\n",
      "[CV] colsample_bytree=0.8095896671142067, gamma=4, learning_rate=0.01, max_depth=6, min_child_weight=0.01, n_estimators=500, reg_alpha=5, reg_lambda=0.1, subsample=0.7131997918663675 \n"
     ]
    },
    {
     "name": "stdout",
     "output_type": "stream",
     "text": [
      "[CV]  colsample_bytree=0.8095896671142067, gamma=4, learning_rate=0.01, max_depth=6, min_child_weight=0.01, n_estimators=500, reg_alpha=5, reg_lambda=0.1, subsample=0.7131997918663675, score=0.777, total=  14.2s\n",
      "[CV] colsample_bytree=0.8095896671142067, gamma=4, learning_rate=0.01, max_depth=6, min_child_weight=0.01, n_estimators=500, reg_alpha=5, reg_lambda=0.1, subsample=0.7131997918663675 \n",
      "[CV]  colsample_bytree=0.8095896671142067, gamma=4, learning_rate=0.01, max_depth=6, min_child_weight=0.01, n_estimators=500, reg_alpha=5, reg_lambda=0.1, subsample=0.7131997918663675, score=0.778, total=  12.9s\n",
      "[CV] colsample_bytree=0.8095896671142067, gamma=4, learning_rate=0.01, max_depth=6, min_child_weight=0.01, n_estimators=500, reg_alpha=5, reg_lambda=0.1, subsample=0.7131997918663675 \n",
      "[CV]  colsample_bytree=0.8095896671142067, gamma=4, learning_rate=0.01, max_depth=6, min_child_weight=0.01, n_estimators=500, reg_alpha=5, reg_lambda=0.1, subsample=0.7131997918663675, score=0.783, total=  14.8s\n",
      "[CV] colsample_bytree=0.8095896671142067, gamma=4, learning_rate=0.01, max_depth=6, min_child_weight=0.01, n_estimators=500, reg_alpha=5, reg_lambda=0.1, subsample=0.7131997918663675 \n",
      "[CV]  colsample_bytree=0.8095896671142067, gamma=4, learning_rate=0.01, max_depth=6, min_child_weight=0.01, n_estimators=500, reg_alpha=5, reg_lambda=0.1, subsample=0.7131997918663675, score=0.779, total=  39.5s\n",
      "[CV] colsample_bytree=0.8095896671142067, gamma=4, learning_rate=0.01, max_depth=6, min_child_weight=0.01, n_estimators=500, reg_alpha=5, reg_lambda=0.1, subsample=0.7131997918663675 \n",
      "[CV]  colsample_bytree=0.8095896671142067, gamma=4, learning_rate=0.01, max_depth=6, min_child_weight=0.01, n_estimators=500, reg_alpha=5, reg_lambda=0.1, subsample=0.7131997918663675, score=0.783, total=  31.7s\n"
     ]
    },
    {
     "name": "stderr",
     "output_type": "stream",
     "text": [
      "[Parallel(n_jobs=1)]: Done  50 out of  50 | elapsed:  4.2min finished\n"
     ]
    }
   ],
   "source": [
    "xgbc = xgb.XGBClassifier( tree_method = \"exact\", predictor = \"cpu_predictor\", verbosity = 1,\n",
    "                           eval_metric = \"logloss\", objective = \"binary:logistic\")\n",
    "# Create parameter grid\n",
    "xgbc_params = {\n",
    "               \"learning_rate\": [0.01, 0.05, 0.1, 0.15, 0.2],\n",
    "               \"gamma\" : [0.3, 0.5, 1, 1.5, 2, 3, 4],\n",
    "               \"max_depth\": [3, 4, 5, 6, 10],\n",
    "               \"colsample_bytree\": sp_uniform(loc=0.2, scale=1),\n",
    "               \"subsample\": sp_uniform(loc=0.2, scale=2),\n",
    "               \"reg_alpha\": [0, 1e-1, 1, 2, 5, 7, 10, 50, 100],\n",
    "               \"reg_lambda\": [0, 1e-1, 1, 5, 10, 20, 50, 100],\n",
    "               \"min_child_weight\": [1e-5, 1e-3, 1e-2, 1e-1, 1, 1e1, 1e2, 1e3, 1e4],\n",
    "               \"n_estimators\": [100, 250, 500, 1000]\n",
    "}\n",
    "\n",
    "# Create RandomizedSearchCV Object\n",
    "xgbc_rand = RandomizedSearchCV(xgbc, param_distributions = xgbc_params, scoring = \"accuracy\",\n",
    "                             cv = 5, verbose = 3, random_state = 40)\n",
    "# Fit the model\n",
    "model_xgboost = xgbc_rand.fit(X_train, y_train)"
   ]
  },
  {
   "cell_type": "code",
   "execution_count": 87,
   "metadata": {},
   "outputs": [
    {
     "name": "stdout",
     "output_type": "stream",
     "text": [
      "Accuracy (random forest auto): 0.780375 params {'colsample_bytree': 0.7083099649576006, 'gamma': 2, 'learning_rate': 0.05, 'max_depth': 6, 'min_child_weight': 0.1, 'n_estimators': 500, 'reg_alpha': 1, 'reg_lambda': 100, 'subsample': 0.7675145143612605}\n"
     ]
    }
   ],
   "source": [
    "# лучший score и параметры на кросс-валидации\n",
    "print(\"Accuracy (random forest auto): {} params {}\"\n",
    "      .format(xgbc_rand.best_score_, xgbc_rand.best_params_))\n",
    "# записываем результаты на отложенной выборке в датафрейм\n",
    "report_df = get_scores(report_df, xgbc_rand, X_test,\n",
    "                       y_test, 'XGB')"
   ]
  },
  {
   "cell_type": "code",
   "execution_count": 121,
   "metadata": {},
   "outputs": [
    {
     "data": {
      "text/html": [
       "<div>\n",
       "<style scoped>\n",
       "    .dataframe tbody tr th:only-of-type {\n",
       "        vertical-align: middle;\n",
       "    }\n",
       "\n",
       "    .dataframe tbody tr th {\n",
       "        vertical-align: top;\n",
       "    }\n",
       "\n",
       "    .dataframe thead th {\n",
       "        text-align: right;\n",
       "    }\n",
       "</style>\n",
       "<table border=\"1\" class=\"dataframe\">\n",
       "  <thead>\n",
       "    <tr style=\"text-align: right;\">\n",
       "      <th></th>\n",
       "      <th>ROC-AUC</th>\n",
       "      <th>F1</th>\n",
       "      <th>precision_0</th>\n",
       "      <th>precision_1</th>\n",
       "      <th>recall_0</th>\n",
       "      <th>recall_1</th>\n",
       "      <th>accuracy</th>\n",
       "    </tr>\n",
       "  </thead>\n",
       "  <tbody>\n",
       "    <tr>\n",
       "      <th>Random_Forest</th>\n",
       "      <td>0.854359</td>\n",
       "      <td>0.748335</td>\n",
       "      <td>0.807365</td>\n",
       "      <td>0.757670</td>\n",
       "      <td>0.822148</td>\n",
       "      <td>0.739227</td>\n",
       "      <td>0.78655</td>\n",
       "    </tr>\n",
       "    <tr>\n",
       "      <th>Logistic_Regression</th>\n",
       "      <td>0.818090</td>\n",
       "      <td>0.676340</td>\n",
       "      <td>0.745805</td>\n",
       "      <td>0.745511</td>\n",
       "      <td>0.841072</td>\n",
       "      <td>0.618915</td>\n",
       "      <td>0.74570</td>\n",
       "    </tr>\n",
       "    <tr>\n",
       "      <th>LGBM</th>\n",
       "      <td>0.853518</td>\n",
       "      <td>0.748131</td>\n",
       "      <td>0.807623</td>\n",
       "      <td>0.756278</td>\n",
       "      <td>0.820571</td>\n",
       "      <td>0.740158</td>\n",
       "      <td>0.78605</td>\n",
       "    </tr>\n",
       "    <tr>\n",
       "      <th>XGB</th>\n",
       "      <td>0.855948</td>\n",
       "      <td>0.747596</td>\n",
       "      <td>0.806671</td>\n",
       "      <td>0.757380</td>\n",
       "      <td>0.822148</td>\n",
       "      <td>0.738062</td>\n",
       "      <td>0.78605</td>\n",
       "    </tr>\n",
       "  </tbody>\n",
       "</table>\n",
       "</div>"
      ],
      "text/plain": [
       "                      ROC-AUC        F1  precision_0  precision_1  recall_0  \\\n",
       "Random_Forest        0.854359  0.748335     0.807365     0.757670  0.822148   \n",
       "Logistic_Regression  0.818090  0.676340     0.745805     0.745511  0.841072   \n",
       "LGBM                 0.853518  0.748131     0.807623     0.756278  0.820571   \n",
       "XGB                  0.855948  0.747596     0.806671     0.757380  0.822148   \n",
       "\n",
       "                     recall_1  accuracy  \n",
       "Random_Forest        0.739227   0.78655  \n",
       "Logistic_Regression  0.618915   0.74570  \n",
       "LGBM                 0.740158   0.78605  \n",
       "XGB                  0.738062   0.78605  "
      ]
     },
     "execution_count": 121,
     "metadata": {},
     "output_type": "execute_result"
    }
   ],
   "source": [
    "report_df"
   ]
  },
  {
   "cell_type": "markdown",
   "metadata": {},
   "source": [
    "# Feature importances"
   ]
  },
  {
   "cell_type": "code",
   "execution_count": 119,
   "metadata": {},
   "outputs": [
    {
     "data": {
      "text/plain": [
       "XGBClassifier(base_score=0.5, booster='gbtree', colsample_bylevel=1,\n",
       "              colsample_bynode=1, colsample_bytree=0.7083099649576006,\n",
       "              eval_metric='logloss', gamma=2, gpu_id=-1, importance_type='gain',\n",
       "              interaction_constraints='', learning_rate=0.05, max_delta_step=0,\n",
       "              max_depth=6, min_child_weight=0.1, missing=nan,\n",
       "              monotone_constraints='()', n_estimators=500, n_jobs=4,\n",
       "              num_parallel_tree=1, random_state=0, reg_alpha=1, reg_lambda=100,\n",
       "              scale_pos_weight=1, subsample=0.7675145143612605,\n",
       "              tree_method='exact', validate_parameters=1, verbosity=None)"
      ]
     },
     "execution_count": 119,
     "metadata": {},
     "output_type": "execute_result"
    }
   ],
   "source": [
    "xgbc_ = xgb.XGBClassifier(eval_metric = \"logloss\", objective = \"binary:logistic\", \n",
    "                          colsample_bytree = 0.7083099649576006, gamma = 2, learning_rate = 0.05, \n",
    "                          max_depth = 6, min_child_weight = 0.1, n_estimators = 500, reg_alpha = 1, \n",
    "                          reg_lambda = 100, subsample = 0.7675145143612605)\n",
    "xgbc_.fit(X_train, y_train)"
   ]
  },
  {
   "cell_type": "code",
   "execution_count": 120,
   "metadata": {},
   "outputs": [
    {
     "data": {
      "image/png": "[encoded data removed]",
      "text/plain": [
       "<Figure size 1728x576 with 1 Axes>"
      ]
     },
     "metadata": {},
     "output_type": "display_data"
    }
   ],
   "source": [
    "sns.set_style(\"whitegrid\")\n",
    "sns.despine(left=True, bottom=True)\n",
    "sns.set_context(\"notebook\")\n",
    "plt.rcParams[\"figure.figsize\"] = (24,8)\n",
    "\n",
    "sorted_idx = xgbc_.feature_importances_.argsort()\n",
    "plt.barh(X_train.columns[sorted_idx], xgbc_.feature_importances_[sorted_idx], ecolor='g')\n",
    "plt.xlabel(\"Xgboost Feature Importance\");\n"
   ]
  },
  {
   "cell_type": "code",
   "execution_count": 122,
   "metadata": {},
   "outputs": [],
   "source": [
    "# делаем прогноз лучшей моделью\n",
    "pred = xgbc_.predict_proba(predict_data)"
   ]
  },
  {
   "cell_type": "code",
   "execution_count": 123,
   "metadata": {},
   "outputs": [],
   "source": [
    "# отправляем посылку на Кегл\n",
    "submission['Survived'] = ((pred) < 0.5).astype(int)\n",
    "submission.to_csv('predict_xgb.csv', index = False)"
   ]
  },
  {
   "cell_type": "code",
   "execution_count": null,
   "metadata": {},
   "outputs": [],
   "source": []
  }
 ],
 "metadata": {
  "kernelspec": {
   "display_name": "Python 3",
   "language": "python",
   "name": "python3"
  },
  "language_info": {
   "codemirror_mode": {
    "name": "ipython",
    "version": 3
   },
   "file_extension": ".py",
   "mimetype": "text/x-python",
   "name": "python",
   "nbconvert_exporter": "python",
   "pygments_lexer": "ipython3",
   "version": "3.8.8"
  }
 },
 "nbformat": 4,
 "nbformat_minor": 4
}

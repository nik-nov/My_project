{
 "cells": [
  {
   "cell_type": "code",
   "execution_count": 57,
   "metadata": {},
   "outputs": [],
   "source": [
    "import matplotlib.pyplot as plt\n",
    "import numpy as np\n",
    "import pandas as pd\n",
    "from sklearn.model_selection import cross_val_score, StratifiedKFold\n",
    "from sklearn.preprocessing import StandardScaler, LabelEncoder\n",
    "from sklearn.model_selection import train_test_split, StratifiedShuffleSplit, GridSearchCV, validation_curve, RandomizedSearchCV\n",
    "from sklearn.metrics import roc_auc_score, f1_score, plot_confusion_matrix, accuracy_score, \\\n",
    "    plot_roc_curve, plot_precision_recall_curve, classification_report, precision_score, recall_score\n",
    "import warnings\n",
    "warnings.filterwarnings(\"ignore\")\n",
    "\n",
    "%matplotlib inline"
   ]
  },
  {
   "cell_type": "code",
   "execution_count": 58,
   "metadata": {},
   "outputs": [],
   "source": [
    "# загружаем данные полученные в EDA+FE\n",
    "data_mod = pd.read_csv('mod_data/data_mod.csv')\n",
    "submission = pd.read_csv('data/sample_submission.csv')"
   ]
  },
  {
   "cell_type": "code",
   "execution_count": 59,
   "metadata": {},
   "outputs": [],
   "source": [
    "# датафрейм для записи результатов\n",
    "report_df = pd.DataFrame()\n",
    "\n",
    "def get_scores(report_df, model, X_test, y_test, name):\n",
    "    '''Принимает на вход датафрейм, обученную модель и данные с отложенной выборки, \n",
    "    рассчитывает метрики и записывает результаты в датафрейм'''\n",
    "    report = pd.DataFrame(columns={'ROC-AUC'}, data=[0])\n",
    "    report['ROC-AUC'] = roc_auc_score(y_test,\n",
    "                                      model.predict_proba(X_test)[:, 1])\n",
    "    report['F1'] = f1_score(y_test, model.predict(X_test))\n",
    "    report['precision_0'] = precision_score(\n",
    "        y_test, model.predict(X_test), pos_label=0)\n",
    "    report['precision_1'] = precision_score(\n",
    "        y_test, model.predict(X_test), pos_label=1)\n",
    "    report['recall_0'] = recall_score(\n",
    "        y_test, model.predict(X_test), pos_label=0)\n",
    "    report['recall_1'] = recall_score(\n",
    "        y_test, model.predict(X_test), pos_label=1)\n",
    "    report['accuracy'] = accuracy_score(\n",
    "        y_test, model.predict(X_test))\n",
    "    report.index = [name]\n",
    "    report_df = report_df.append(report)\n",
    "    return report_df"
   ]
  },
  {
   "cell_type": "markdown",
   "metadata": {},
   "source": [
    "# Feature selection"
   ]
  },
  {
   "cell_type": "code",
   "execution_count": 60,
   "metadata": {},
   "outputs": [
    {
     "name": "stdout",
     "output_type": "stream",
     "text": [
      "<class 'pandas.core.frame.DataFrame'>\n",
      "RangeIndex: 200000 entries, 0 to 199999\n",
      "Data columns (total 16 columns):\n",
      " #   Column       Non-Null Count   Dtype  \n",
      "---  ------       --------------   -----  \n",
      " 0   PassengerId  200000 non-null  int64  \n",
      " 1   Survived     100000 non-null  float64\n",
      " 2   Pclass       200000 non-null  int64  \n",
      " 3   Name         200000 non-null  object \n",
      " 4   Sex          200000 non-null  object \n",
      " 5   Age          200000 non-null  float64\n",
      " 6   SibSp        200000 non-null  int64  \n",
      " 7   Parch        200000 non-null  int64  \n",
      " 8   Ticket       200000 non-null  object \n",
      " 9   Fare         200000 non-null  float64\n",
      " 10  Embarked     200000 non-null  object \n",
      " 11  Deck         200000 non-null  object \n",
      " 12  Family       200000 non-null  int64  \n",
      " 13  Alone        200000 non-null  bool   \n",
      " 14  FareC        200000 non-null  object \n",
      " 15  AgeC         200000 non-null  object \n",
      "dtypes: bool(1), float64(3), int64(5), object(7)\n",
      "memory usage: 23.1+ MB\n"
     ]
    }
   ],
   "source": [
    "data_mod.info()"
   ]
  },
  {
   "cell_type": "code",
   "execution_count": 61,
   "metadata": {},
   "outputs": [],
   "source": [
    "data = data_mod[['Survived', 'Age', 'Fare', 'Family', 'Pclass', 'Sex', 'Embarked', 'Deck', 'Alone', 'Name', 'Ticket']]"
   ]
  },
  {
   "cell_type": "markdown",
   "metadata": {},
   "source": [
    "# Features encoding"
   ]
  },
  {
   "cell_type": "code",
   "execution_count": 62,
   "metadata": {},
   "outputs": [],
   "source": [
    "features_encoding = ['Pclass','Sex','Embarked','Deck','Alone'] \n",
    "data = pd.get_dummies(data=data, columns=features_encoding)"
   ]
  },
  {
   "cell_type": "code",
   "execution_count": 63,
   "metadata": {},
   "outputs": [],
   "source": [
    "features_encoding  = ['Family', 'Name', 'Ticket']\n",
    "for i in features_encoding:\n",
    "    data[i] = LabelEncoder().fit_transform(data[i])"
   ]
  },
  {
   "cell_type": "code",
   "execution_count": 64,
   "metadata": {},
   "outputs": [
    {
     "name": "stdout",
     "output_type": "stream",
     "text": [
      "<class 'pandas.core.frame.DataFrame'>\n",
      "RangeIndex: 200000 entries, 0 to 199999\n",
      "Data columns (total 25 columns):\n",
      " #   Column       Non-Null Count   Dtype  \n",
      "---  ------       --------------   -----  \n",
      " 0   Survived     100000 non-null  float64\n",
      " 1   Age          200000 non-null  float64\n",
      " 2   Fare         200000 non-null  float64\n",
      " 3   Family       200000 non-null  int64  \n",
      " 4   Name         200000 non-null  int64  \n",
      " 5   Ticket       200000 non-null  int64  \n",
      " 6   Pclass_1     200000 non-null  uint8  \n",
      " 7   Pclass_2     200000 non-null  uint8  \n",
      " 8   Pclass_3     200000 non-null  uint8  \n",
      " 9   Sex_female   200000 non-null  uint8  \n",
      " 10  Sex_male     200000 non-null  uint8  \n",
      " 11  Embarked_C   200000 non-null  uint8  \n",
      " 12  Embarked_Q   200000 non-null  uint8  \n",
      " 13  Embarked_S   200000 non-null  uint8  \n",
      " 14  Deck_A       200000 non-null  uint8  \n",
      " 15  Deck_B       200000 non-null  uint8  \n",
      " 16  Deck_C       200000 non-null  uint8  \n",
      " 17  Deck_D       200000 non-null  uint8  \n",
      " 18  Deck_E       200000 non-null  uint8  \n",
      " 19  Deck_F       200000 non-null  uint8  \n",
      " 20  Deck_G       200000 non-null  uint8  \n",
      " 21  Deck_N       200000 non-null  uint8  \n",
      " 22  Deck_T       200000 non-null  uint8  \n",
      " 23  Alone_False  200000 non-null  uint8  \n",
      " 24  Alone_True   200000 non-null  uint8  \n",
      "dtypes: float64(3), int64(3), uint8(19)\n",
      "memory usage: 12.8 MB\n"
     ]
    }
   ],
   "source": [
    "data.info()"
   ]
  },
  {
   "cell_type": "markdown",
   "metadata": {},
   "source": [
    "### Split data"
   ]
  },
  {
   "cell_type": "code",
   "execution_count": 65,
   "metadata": {},
   "outputs": [
    {
     "data": {
      "text/plain": [
       "(100000, 24)"
      ]
     },
     "execution_count": 65,
     "metadata": {},
     "output_type": "execute_result"
    }
   ],
   "source": [
    "# разделяем общий дадасет data на train и test\n",
    "# в тестовый датасет попадают только те объекты для которых значение 'Survived' не определено\n",
    "predict_data = data[data['Survived'].isnull()]\n",
    "predict_data = predict_data.drop(['Survived'], axis = 1)\n",
    "\n",
    "# в тренировачный набор попадают объекты у которых нет пропущеных значений ни у одной переменной\n",
    "train_data = data.dropna()\n",
    "target = train_data['Survived']\n",
    "train_data = train_data.drop(['Survived'], axis = 1)\n",
    "# контроль разммера\n",
    "train_data.shape"
   ]
  },
  {
   "cell_type": "markdown",
   "metadata": {},
   "source": [
    "# Random Forest model"
   ]
  },
  {
   "cell_type": "code",
   "execution_count": 66,
   "metadata": {},
   "outputs": [],
   "source": [
    "from sklearn.ensemble import RandomForestClassifier"
   ]
  },
  {
   "cell_type": "code",
   "execution_count": 67,
   "metadata": {},
   "outputs": [],
   "source": [
    "# разделяем на отложенную и ообучающую\n",
    "X_train, X_test, y_train, y_test = train_test_split(train_data, target, \n",
    "                                                    test_size=0.2, \n",
    "                                                    random_state=23)"
   ]
  },
  {
   "cell_type": "code",
   "execution_count": 68,
   "metadata": {},
   "outputs": [
    {
     "name": "stdout",
     "output_type": "stream",
     "text": [
      "Fitting 3 folds for each of 20 candidates, totalling 60 fits\n"
     ]
    },
    {
     "name": "stderr",
     "output_type": "stream",
     "text": [
      "[Parallel(n_jobs=-1)]: Using backend LokyBackend with 4 concurrent workers.\n",
      "[Parallel(n_jobs=-1)]: Done  10 tasks      | elapsed:  5.2min\n",
      "[Parallel(n_jobs=-1)]: Done  60 out of  60 | elapsed: 25.5min finished\n"
     ]
    },
    {
     "data": {
      "text/plain": [
       "RandomizedSearchCV(cv=3, estimator=RandomForestClassifier(), n_iter=20,\n",
       "                   n_jobs=-1,\n",
       "                   param_distributions={'bootstrap': [True, False],\n",
       "                                        'min_samples_leaf': [8, 10, 12],\n",
       "                                        'min_samples_split': [2, 3, 5, 7],\n",
       "                                        'n_estimators': [600, 1000, 2000,\n",
       "                                                         3000]},\n",
       "                   random_state=54, verbose=5)"
      ]
     },
     "execution_count": 68,
     "metadata": {},
     "output_type": "execute_result"
    }
   ],
   "source": [
    "rf = RandomForestClassifier()\n",
    "rf_params = {\n",
    "    'bootstrap': [True,False],\n",
    "    'n_estimators': [600,1000,2000,3000],\n",
    "    'min_samples_split': [2,3,5,7],\n",
    "    'min_samples_leaf': [8,10,12]\n",
    "}\n",
    "# подбор гиперпараметров\n",
    "rf_rand = RandomizedSearchCV(rf, rf_params, cv=3, refit=True, verbose=5, n_jobs=-1, n_iter=20, random_state=54)\n",
    "rf_rand.fit(X_train, y_train)"
   ]
  },
  {
   "cell_type": "code",
   "execution_count": 69,
   "metadata": {},
   "outputs": [
    {
     "name": "stdout",
     "output_type": "stream",
     "text": [
      "Accuracy (random forest auto): 0.7789624921183274 params {'n_estimators': 1000, 'min_samples_split': 3, 'min_samples_leaf': 12, 'bootstrap': True}\n"
     ]
    }
   ],
   "source": [
    "# лучший score и лучшие параметры на кросс-валидации\n",
    "print(\"Accuracy (random forest auto): {} params {}\"\n",
    "      .format(rf_rand.best_score_, rf_rand.best_params_))\n",
    "# записываем результаты на отложенной выборке в датафрейм\n",
    "report_df = get_scores(report_df, rf_rand, X_test,\n",
    "                       y_test, 'Random_Forest')"
   ]
  },
  {
   "cell_type": "code",
   "execution_count": 70,
   "metadata": {},
   "outputs": [
    {
     "data": {
      "text/html": [
       "<div>\n",
       "<style scoped>\n",
       "    .dataframe tbody tr th:only-of-type {\n",
       "        vertical-align: middle;\n",
       "    }\n",
       "\n",
       "    .dataframe tbody tr th {\n",
       "        vertical-align: top;\n",
       "    }\n",
       "\n",
       "    .dataframe thead th {\n",
       "        text-align: right;\n",
       "    }\n",
       "</style>\n",
       "<table border=\"1\" class=\"dataframe\">\n",
       "  <thead>\n",
       "    <tr style=\"text-align: right;\">\n",
       "      <th></th>\n",
       "      <th>ROC-AUC</th>\n",
       "      <th>F1</th>\n",
       "      <th>precision_0</th>\n",
       "      <th>precision_1</th>\n",
       "      <th>recall_0</th>\n",
       "      <th>recall_1</th>\n",
       "      <th>accuracy</th>\n",
       "    </tr>\n",
       "  </thead>\n",
       "  <tbody>\n",
       "    <tr>\n",
       "      <th>Random_Forest</th>\n",
       "      <td>0.85463</td>\n",
       "      <td>0.747314</td>\n",
       "      <td>0.806233</td>\n",
       "      <td>0.757783</td>\n",
       "      <td>0.822762</td>\n",
       "      <td>0.73713</td>\n",
       "      <td>0.786</td>\n",
       "    </tr>\n",
       "  </tbody>\n",
       "</table>\n",
       "</div>"
      ],
      "text/plain": [
       "               ROC-AUC        F1  precision_0  precision_1  recall_0  \\\n",
       "Random_Forest  0.85463  0.747314     0.806233     0.757783  0.822762   \n",
       "\n",
       "               recall_1  accuracy  \n",
       "Random_Forest   0.73713     0.786  "
      ]
     },
     "execution_count": 70,
     "metadata": {},
     "output_type": "execute_result"
    }
   ],
   "source": [
    "report_df"
   ]
  },
  {
   "cell_type": "markdown",
   "metadata": {},
   "source": [
    "# Logistic Regression model"
   ]
  },
  {
   "cell_type": "code",
   "execution_count": 71,
   "metadata": {},
   "outputs": [],
   "source": [
    "from sklearn.linear_model import LogisticRegression"
   ]
  },
  {
   "cell_type": "code",
   "execution_count": 72,
   "metadata": {},
   "outputs": [],
   "source": [
    "X_train, X_test, y_train, y_test = train_test_split(train_data, target, \n",
    "                                                    test_size=0.2, \n",
    "                                                    random_state=23)"
   ]
  },
  {
   "cell_type": "code",
   "execution_count": 73,
   "metadata": {},
   "outputs": [
    {
     "name": "stdout",
     "output_type": "stream",
     "text": [
      "Fitting 5 folds for each of 20 candidates, totalling 100 fits\n"
     ]
    },
    {
     "name": "stderr",
     "output_type": "stream",
     "text": [
      "[Parallel(n_jobs=-1)]: Using backend LokyBackend with 4 concurrent workers.\n",
      "[Parallel(n_jobs=-1)]: Done  10 tasks      | elapsed:    3.0s\n",
      "[Parallel(n_jobs=-1)]: Done  64 tasks      | elapsed:    8.5s\n",
      "[Parallel(n_jobs=-1)]: Done 100 out of 100 | elapsed:   12.2s finished\n"
     ]
    },
    {
     "data": {
      "text/plain": [
       "RandomizedSearchCV(cv=5, estimator=LogisticRegression(), n_iter=20, n_jobs=-1,\n",
       "                   param_distributions={'C': array([1.00000000e-03, 5.27263158e-01, 1.05352632e+00, 1.57978947e+00,\n",
       "       2.10605263e+00, 2.63231579e+00, 3.15857895e+00, 3.68484211e+00,\n",
       "       4.21110526e+00, 4.73736842e+00, 5.26363158e+00, 5.78989474e+00,\n",
       "       6.31615789e+00, 6.84242105e+00, 7.36868421e+00, 7.89494737e+00,\n",
       "       8.42121053e+00, 8.94747368e+00, 9.47373684e+00, 1.00000000e+01]),\n",
       "                                        'penalty': ['l1', 'l2']},\n",
       "                   random_state=54, verbose=5)"
      ]
     },
     "execution_count": 73,
     "metadata": {},
     "output_type": "execute_result"
    }
   ],
   "source": [
    "lr = LogisticRegression()\n",
    "lr_params = {\n",
    "    'C': np.linspace(0.001, 10, 20), \n",
    "    'penalty': ['l1', 'l2']\n",
    "}\n",
    "# подбор гиперпараметров\n",
    "lr_rand = RandomizedSearchCV(lr, lr_params, cv=5, refit=True, verbose=5, n_jobs=-1, n_iter=20, random_state=54)\n",
    "lr_rand.fit(X_train, y_train)"
   ]
  },
  {
   "cell_type": "code",
   "execution_count": 75,
   "metadata": {},
   "outputs": [
    {
     "name": "stdout",
     "output_type": "stream",
     "text": [
      "Accuracy (random forest auto): 0.7646 params {'penalty': 'l2', 'C': 8.947473684210527}\n"
     ]
    }
   ],
   "source": [
    "# лучший score и лучшие параметры на кросс-валидации\n",
    "print(\"Accuracy (random forest auto): {} params {}\"\n",
    "      .format(lr_rand.best_score_, lr_rand.best_params_))\n",
    "# записываем результаты на отложенной выборке в датафрейм\n",
    "report_df = get_scores(report_df, lr_rand, X_test,\n",
    "                       y_test, 'Logistic_Regression')"
   ]
  },
  {
   "cell_type": "code",
   "execution_count": 76,
   "metadata": {},
   "outputs": [
    {
     "data": {
      "text/html": [
       "<div>\n",
       "<style scoped>\n",
       "    .dataframe tbody tr th:only-of-type {\n",
       "        vertical-align: middle;\n",
       "    }\n",
       "\n",
       "    .dataframe tbody tr th {\n",
       "        vertical-align: top;\n",
       "    }\n",
       "\n",
       "    .dataframe thead th {\n",
       "        text-align: right;\n",
       "    }\n",
       "</style>\n",
       "<table border=\"1\" class=\"dataframe\">\n",
       "  <thead>\n",
       "    <tr style=\"text-align: right;\">\n",
       "      <th></th>\n",
       "      <th>ROC-AUC</th>\n",
       "      <th>F1</th>\n",
       "      <th>precision_0</th>\n",
       "      <th>precision_1</th>\n",
       "      <th>recall_0</th>\n",
       "      <th>recall_1</th>\n",
       "      <th>accuracy</th>\n",
       "    </tr>\n",
       "  </thead>\n",
       "  <tbody>\n",
       "    <tr>\n",
       "      <th>Random_Forest</th>\n",
       "      <td>0.854630</td>\n",
       "      <td>0.747314</td>\n",
       "      <td>0.806233</td>\n",
       "      <td>0.757783</td>\n",
       "      <td>0.822762</td>\n",
       "      <td>0.737130</td>\n",
       "      <td>0.78600</td>\n",
       "    </tr>\n",
       "    <tr>\n",
       "      <th>Logistic_Regression</th>\n",
       "      <td>0.840523</td>\n",
       "      <td>0.716046</td>\n",
       "      <td>0.774500</td>\n",
       "      <td>0.764581</td>\n",
       "      <td>0.844051</td>\n",
       "      <td>0.673305</td>\n",
       "      <td>0.77075</td>\n",
       "    </tr>\n",
       "  </tbody>\n",
       "</table>\n",
       "</div>"
      ],
      "text/plain": [
       "                      ROC-AUC        F1  precision_0  precision_1  recall_0  \\\n",
       "Random_Forest        0.854630  0.747314     0.806233     0.757783  0.822762   \n",
       "Logistic_Regression  0.840523  0.716046     0.774500     0.764581  0.844051   \n",
       "\n",
       "                     recall_1  accuracy  \n",
       "Random_Forest        0.737130   0.78600  \n",
       "Logistic_Regression  0.673305   0.77075  "
      ]
     },
     "execution_count": 76,
     "metadata": {},
     "output_type": "execute_result"
    }
   ],
   "source": [
    "report_df"
   ]
  },
  {
   "cell_type": "markdown",
   "metadata": {},
   "source": [
    "# LightGBM model"
   ]
  },
  {
   "cell_type": "code",
   "execution_count": 77,
   "metadata": {},
   "outputs": [],
   "source": [
    "import lightgbm as lgb\n",
    "from scipy.stats import randint as sp_randint\n",
    "from scipy.stats import uniform as sp_uniform"
   ]
  },
  {
   "cell_type": "code",
   "execution_count": 78,
   "metadata": {},
   "outputs": [],
   "source": [
    "X_train, X_test, y_train, y_test = train_test_split(train_data, target, \n",
    "                                                    test_size=0.2, \n",
    "                                                    random_state=23)"
   ]
  },
  {
   "cell_type": "code",
   "execution_count": 79,
   "metadata": {},
   "outputs": [
    {
     "name": "stdout",
     "output_type": "stream",
     "text": [
      "Fitting 5 folds for each of 20 candidates, totalling 100 fits\n"
     ]
    },
    {
     "name": "stderr",
     "output_type": "stream",
     "text": [
      "[Parallel(n_jobs=-1)]: Using backend LokyBackend with 4 concurrent workers.\n",
      "[Parallel(n_jobs=-1)]: Done  10 tasks      | elapsed:    2.8s\n",
      "[Parallel(n_jobs=-1)]: Done  64 tasks      | elapsed:   15.8s\n",
      "[Parallel(n_jobs=-1)]: Done 100 out of 100 | elapsed:   22.4s finished\n"
     ]
    },
    {
     "data": {
      "text/plain": [
       "RandomizedSearchCV(cv=5, estimator=LGBMClassifier(), n_iter=20, n_jobs=-1,\n",
       "                   param_distributions={'colsample_bytree': <scipy.stats._distn_infrastructure.rv_frozen object at 0x7ff9e4a75f70>,\n",
       "                                        'metric': ['binary_logloss'],\n",
       "                                        'min_child_samples': <scipy.stats._distn_infrastructure.rv_frozen object at 0x7ff9e4ab6160>,\n",
       "                                        'min_child_weight': [1e-05, 0.001, 0.01,\n",
       "                                                             0.1, 1, 10.0,\n",
       "                                                             100.0, 1000.0,\n",
       "                                                             10000.0],\n",
       "                                        'num_leaves': <scipy.stats._distn_infrastructure.rv_frozen object at 0x7ff9e4ab6370>,\n",
       "                                        'reg_alpha': [0, 0.1, 1, 2, 5, 7, 10,\n",
       "                                                      50, 100],\n",
       "                                        'reg_lambda': [0, 0.1, 1, 5, 10, 20, 50,\n",
       "                                                       100],\n",
       "                                        'scale_pos_weight': [1, 2, 6, 12],\n",
       "                                        'subsample': <scipy.stats._distn_infrastructure.rv_frozen object at 0x7ff9e4a75ee0>},\n",
       "                   random_state=54, scoring='balanced_accuracy', verbose=5)"
      ]
     },
     "execution_count": 79,
     "metadata": {},
     "output_type": "execute_result"
    }
   ],
   "source": [
    "lgbc = lgb.LGBMClassifier()\n",
    "lgbc_params = {\n",
    "            'num_leaves': sp_randint(6, 50), \n",
    "             'min_child_samples': sp_randint(100, 500), \n",
    "             'min_child_weight': [1e-5, 1e-3, 1e-2, 1e-1, 1, 1e1, 1e2, 1e3, 1e4],\n",
    "             'subsample': sp_uniform(loc=0.2, scale=0.8), \n",
    "             'colsample_bytree': sp_uniform(loc=0.4, scale=0.6),\n",
    "             'reg_alpha': [0, 1e-1, 1, 2, 5, 7, 10, 50, 100],\n",
    "             'reg_lambda': [0, 1e-1, 1, 5, 10, 20, 50, 100],\n",
    "             'scale_pos_weight':[1,2,6,12],\n",
    "             'metric':['binary_logloss']\n",
    "}\n",
    "lgbc_rand = RandomizedSearchCV(lgbc, lgbc_params, cv=5, refit=True, verbose=5, n_jobs=-1, n_iter=20, random_state=54, scoring = 'balanced_accuracy')\n",
    "lgbc_rand.fit(X_train, y_train)"
   ]
  },
  {
   "cell_type": "code",
   "execution_count": 81,
   "metadata": {},
   "outputs": [
    {
     "name": "stdout",
     "output_type": "stream",
     "text": [
      "Accuracy (random forest auto): 0.7756251509337672 params {'colsample_bytree': 0.5137786086305816, 'metric': 'binary_logloss', 'min_child_samples': 379, 'min_child_weight': 0.1, 'num_leaves': 7, 'reg_alpha': 1, 'reg_lambda': 50, 'scale_pos_weight': 1, 'subsample': 0.3402885511705539}\n"
     ]
    }
   ],
   "source": [
    "# лучший score и параметры на кросс-валидации\n",
    "print(\"Accuracy (random forest auto): {} params {}\"\n",
    "      .format(lgbc_rand.best_score_, lgbc_rand.best_params_))\n",
    "# записываем результаты на отложенной выборке в датафрейм\n",
    "report_df = get_scores(report_df, lgbc_rand, X_test,\n",
    "                       y_test, 'LGBM')"
   ]
  },
  {
   "cell_type": "code",
   "execution_count": 82,
   "metadata": {},
   "outputs": [
    {
     "data": {
      "text/html": [
       "<div>\n",
       "<style scoped>\n",
       "    .dataframe tbody tr th:only-of-type {\n",
       "        vertical-align: middle;\n",
       "    }\n",
       "\n",
       "    .dataframe tbody tr th {\n",
       "        vertical-align: top;\n",
       "    }\n",
       "\n",
       "    .dataframe thead th {\n",
       "        text-align: right;\n",
       "    }\n",
       "</style>\n",
       "<table border=\"1\" class=\"dataframe\">\n",
       "  <thead>\n",
       "    <tr style=\"text-align: right;\">\n",
       "      <th></th>\n",
       "      <th>ROC-AUC</th>\n",
       "      <th>F1</th>\n",
       "      <th>precision_0</th>\n",
       "      <th>precision_1</th>\n",
       "      <th>recall_0</th>\n",
       "      <th>recall_1</th>\n",
       "      <th>accuracy</th>\n",
       "    </tr>\n",
       "  </thead>\n",
       "  <tbody>\n",
       "    <tr>\n",
       "      <th>Random_Forest</th>\n",
       "      <td>0.854630</td>\n",
       "      <td>0.747314</td>\n",
       "      <td>0.806233</td>\n",
       "      <td>0.757783</td>\n",
       "      <td>0.822762</td>\n",
       "      <td>0.737130</td>\n",
       "      <td>0.78600</td>\n",
       "    </tr>\n",
       "    <tr>\n",
       "      <th>Logistic_Regression</th>\n",
       "      <td>0.840523</td>\n",
       "      <td>0.716046</td>\n",
       "      <td>0.774500</td>\n",
       "      <td>0.764581</td>\n",
       "      <td>0.844051</td>\n",
       "      <td>0.673305</td>\n",
       "      <td>0.77075</td>\n",
       "    </tr>\n",
       "    <tr>\n",
       "      <th>LGBM</th>\n",
       "      <td>0.854139</td>\n",
       "      <td>0.752494</td>\n",
       "      <td>0.813336</td>\n",
       "      <td>0.753769</td>\n",
       "      <td>0.815402</td>\n",
       "      <td>0.751223</td>\n",
       "      <td>0.78785</td>\n",
       "    </tr>\n",
       "  </tbody>\n",
       "</table>\n",
       "</div>"
      ],
      "text/plain": [
       "                      ROC-AUC        F1  precision_0  precision_1  recall_0  \\\n",
       "Random_Forest        0.854630  0.747314     0.806233     0.757783  0.822762   \n",
       "Logistic_Regression  0.840523  0.716046     0.774500     0.764581  0.844051   \n",
       "LGBM                 0.854139  0.752494     0.813336     0.753769  0.815402   \n",
       "\n",
       "                     recall_1  accuracy  \n",
       "Random_Forest        0.737130   0.78600  \n",
       "Logistic_Regression  0.673305   0.77075  \n",
       "LGBM                 0.751223   0.78785  "
      ]
     },
     "execution_count": 82,
     "metadata": {},
     "output_type": "execute_result"
    }
   ],
   "source": [
    "report_df"
   ]
  },
  {
   "cell_type": "code",
   "execution_count": 44,
   "metadata": {},
   "outputs": [
    {
     "data": {
      "image/png": "[encoded data removed]",
      "text/plain": [
       "<Figure size 1440x720 with 1 Axes>"
      ]
     },
     "metadata": {
      "needs_background": "light"
     },
     "output_type": "display_data"
    },
    {
     "data": {
      "text/plain": [
       "<Figure size 432x288 with 0 Axes>"
      ]
     },
     "metadata": {},
     "output_type": "display_data"
    }
   ],
   "source": [
    "#sorted(zip(clf.feature_importances_, X.columns), reverse=True)\n",
    "feature_imp = pd.DataFrame(sorted(zip(lgbm_.feature_importances_,X_train.columns)), columns=['Value','Feature'])\n",
    "\n",
    "plt.figure(figsize=(20, 10))\n",
    "sns.barplot(x=\"Value\", y=\"Feature\", data=feature_imp.sort_values(by=\"Value\", ascending=False))\n",
    "plt.title('LightGBM Features (avg over folds)')\n",
    "plt.tight_layout()\n",
    "plt.show()\n",
    "plt.savefig('lgbm_importances-01.png')"
   ]
  },
  {
   "cell_type": "markdown",
   "metadata": {},
   "source": [
    "# Stacking"
   ]
  },
  {
   "cell_type": "code",
   "execution_count": 83,
   "metadata": {},
   "outputs": [],
   "source": [
    "from sklearn.ensemble import VotingClassifier"
   ]
  },
  {
   "cell_type": "code",
   "execution_count": 85,
   "metadata": {},
   "outputs": [
    {
     "data": {
      "text/plain": [
       "VotingClassifier(estimators=[('lr', LogisticRegression(C=8.947)),\n",
       "                             ('rf',\n",
       "                              RandomForestClassifier(min_samples_leaf=12,\n",
       "                                                     min_samples_split=3,\n",
       "                                                     n_estimators=1000)),\n",
       "                             ('lgb',\n",
       "                              LGBMClassifier(colsample_bytree=0.5904567583811636,\n",
       "                                             metric='binary_logloss',\n",
       "                                             min_child_samples=365,\n",
       "                                             min_child_weight=0.1,\n",
       "                                             num_leaves=39, reg_alpha=2,\n",
       "                                             reg_lambda=100, scale_pos_weight=1,\n",
       "                                             subsample=0.735219247315511))],\n",
       "                 voting='soft')"
      ]
     },
     "execution_count": 85,
     "metadata": {},
     "output_type": "execute_result"
    }
   ],
   "source": [
    "lgbm_ = lgb.LGBMClassifier(\n",
    "    colsample_bytree=0.5904567583811636,\n",
    "    metric='binary_logloss',\n",
    "    min_child_samples= 365,\n",
    "    min_child_weight= 0.1,\n",
    "    num_leaves= 39,\n",
    "    reg_alpha= 2,\n",
    "    reg_lambda= 100,\n",
    "    scale_pos_weight= 1,\n",
    "    subsample= 0.735219247315511\n",
    ")\n",
    "\n",
    "rf_ = RandomForestClassifier(\n",
    "    n_estimators= 1000, \n",
    "    min_samples_split= 3, \n",
    "    min_samples_leaf= 12, \n",
    "    bootstrap= True\n",
    ")\n",
    "\n",
    "lr_ = LogisticRegression(\n",
    "    penalty='l2', \n",
    "    C=8.947\n",
    ")\n",
    "\n",
    "clf_st = VotingClassifier(estimators=[\n",
    "    ('lr', lr_), ('rf', rf_), ('lgb', lgbm_)], voting='soft')\n",
    "\n",
    "clf_st.fit(X_train, y_train)"
   ]
  },
  {
   "cell_type": "code",
   "execution_count": 87,
   "metadata": {},
   "outputs": [],
   "source": [
    "# записываем результаты в датафрейм\n",
    "report_df = get_scores(report_df, clf_st, X_test,\n",
    "                       y_test, 'VotingClassifier')"
   ]
  },
  {
   "cell_type": "code",
   "execution_count": 88,
   "metadata": {},
   "outputs": [
    {
     "data": {
      "text/html": [
       "<div>\n",
       "<style scoped>\n",
       "    .dataframe tbody tr th:only-of-type {\n",
       "        vertical-align: middle;\n",
       "    }\n",
       "\n",
       "    .dataframe tbody tr th {\n",
       "        vertical-align: top;\n",
       "    }\n",
       "\n",
       "    .dataframe thead th {\n",
       "        text-align: right;\n",
       "    }\n",
       "</style>\n",
       "<table border=\"1\" class=\"dataframe\">\n",
       "  <thead>\n",
       "    <tr style=\"text-align: right;\">\n",
       "      <th></th>\n",
       "      <th>ROC-AUC</th>\n",
       "      <th>F1</th>\n",
       "      <th>precision_0</th>\n",
       "      <th>precision_1</th>\n",
       "      <th>recall_0</th>\n",
       "      <th>recall_1</th>\n",
       "      <th>accuracy</th>\n",
       "    </tr>\n",
       "  </thead>\n",
       "  <tbody>\n",
       "    <tr>\n",
       "      <th>Random_Forest</th>\n",
       "      <td>0.854630</td>\n",
       "      <td>0.747314</td>\n",
       "      <td>0.806233</td>\n",
       "      <td>0.757783</td>\n",
       "      <td>0.822762</td>\n",
       "      <td>0.737130</td>\n",
       "      <td>0.78600</td>\n",
       "    </tr>\n",
       "    <tr>\n",
       "      <th>Logistic_Regression</th>\n",
       "      <td>0.840523</td>\n",
       "      <td>0.716046</td>\n",
       "      <td>0.774500</td>\n",
       "      <td>0.764581</td>\n",
       "      <td>0.844051</td>\n",
       "      <td>0.673305</td>\n",
       "      <td>0.77075</td>\n",
       "    </tr>\n",
       "    <tr>\n",
       "      <th>LGBM</th>\n",
       "      <td>0.854139</td>\n",
       "      <td>0.752494</td>\n",
       "      <td>0.813336</td>\n",
       "      <td>0.753769</td>\n",
       "      <td>0.815402</td>\n",
       "      <td>0.751223</td>\n",
       "      <td>0.78785</td>\n",
       "    </tr>\n",
       "    <tr>\n",
       "      <th>VotingClassifier</th>\n",
       "      <td>0.854919</td>\n",
       "      <td>0.744037</td>\n",
       "      <td>0.801953</td>\n",
       "      <td>0.760365</td>\n",
       "      <td>0.827317</td>\n",
       "      <td>0.728395</td>\n",
       "      <td>0.78485</td>\n",
       "    </tr>\n",
       "  </tbody>\n",
       "</table>\n",
       "</div>"
      ],
      "text/plain": [
       "                      ROC-AUC        F1  precision_0  precision_1  recall_0  \\\n",
       "Random_Forest        0.854630  0.747314     0.806233     0.757783  0.822762   \n",
       "Logistic_Regression  0.840523  0.716046     0.774500     0.764581  0.844051   \n",
       "LGBM                 0.854139  0.752494     0.813336     0.753769  0.815402   \n",
       "VotingClassifier     0.854919  0.744037     0.801953     0.760365  0.827317   \n",
       "\n",
       "                     recall_1  accuracy  \n",
       "Random_Forest        0.737130   0.78600  \n",
       "Logistic_Regression  0.673305   0.77075  \n",
       "LGBM                 0.751223   0.78785  \n",
       "VotingClassifier     0.728395   0.78485  "
      ]
     },
     "execution_count": 88,
     "metadata": {},
     "output_type": "execute_result"
    }
   ],
   "source": [
    "report_df"
   ]
  },
  {
   "cell_type": "code",
   "execution_count": 49,
   "metadata": {},
   "outputs": [],
   "source": [
    "# делаем прогноз лучшей моделью\n",
    "pred = lgbc_rand.predict_proba(predict_data)"
   ]
  },
  {
   "cell_type": "code",
   "execution_count": 51,
   "metadata": {},
   "outputs": [],
   "source": [
    "# отправляем посылку на Кегл\n",
    "submission['Survived'] = ((pred) < 0.5).astype(int)\n",
    "submission.to_csv('predict.csv', index = False)"
   ]
  },
  {
   "cell_type": "code",
   "execution_count": null,
   "metadata": {},
   "outputs": [],
   "source": []
  }
 ],
 "metadata": {
  "kernelspec": {
   "display_name": "Python 3",
   "language": "python",
   "name": "python3"
  },
  "language_info": {
   "codemirror_mode": {
    "name": "ipython",
    "version": 3
   },
   "file_extension": ".py",
   "mimetype": "text/x-python",
   "name": "python",
   "nbconvert_exporter": "python",
   "pygments_lexer": "ipython3",
   "version": "3.8.8"
  }
 },
 "nbformat": 4,
 "nbformat_minor": 4
}
